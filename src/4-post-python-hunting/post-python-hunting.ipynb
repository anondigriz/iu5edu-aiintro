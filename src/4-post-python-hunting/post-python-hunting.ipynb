{
  "cells": [
    {
      "cell_type": "markdown",
      "metadata": {},
      "source": [
        "# Совершенствование в охоте на Питона"
      ]
    },
    {
      "cell_type": "markdown",
      "metadata": {},
      "source": [
        "[![Open in Colab](https://colab.research.google.com/assets/colab-badge.svg)](https://colab.research.google.com/github/anondigriz/iu5edu-aiintro/blob/main/src/4-post-python-hunting/post-python-hunting.ipynb)\n"
      ]
    },
    {
      "cell_type": "markdown",
      "metadata": {},
      "source": [
        "## Методы основных типов"
      ]
    },
    {
      "cell_type": "markdown",
      "metadata": {},
      "source": [
        "### [Срезы](https://tproger.ru/articles/spiski-v-python-osnovy-i-metody/)"
      ]
    },
    {
      "cell_type": "markdown",
      "metadata": {
        "id": "yJP0FHuZVx9b"
      },
      "source": [
        "Срезы позволяют получить некое подмножество значений. Следующий код вернёт список с элементами, начиная индексом `0` и не включая при этом индекс `2` и выше:\n"
      ]
    },
    {
      "cell_type": "code",
      "execution_count": null,
      "metadata": {
        "id": "LNKhwRbsWCdn"
      },
      "outputs": [],
      "source": [
        "numbers = [1, 5, 9, 6]\n",
        "print(numbers[0:2])\n"
      ]
    },
    {
      "cell_type": "markdown",
      "metadata": {
        "id": "LxvKp_weXevQ"
      },
      "source": [
        "Далее выведем всё, за исключением элемента на позиции `3`:"
      ]
    },
    {
      "cell_type": "code",
      "execution_count": null,
      "metadata": {
        "id": "BgWYujJ5XgFF"
      },
      "outputs": [],
      "source": [
        "print(numbers[:3])\n"
      ]
    },
    {
      "cell_type": "markdown",
      "metadata": {
        "id": "_mBkUhPzXiVG"
      },
      "source": [
        "А теперь начиная с индекса `1` и до конца:"
      ]
    },
    {
      "cell_type": "code",
      "execution_count": null,
      "metadata": {
        "id": "D1PrLEtOXh20"
      },
      "outputs": [],
      "source": [
        "print(numbers[1:])\n"
      ]
    },
    {
      "cell_type": "markdown",
      "metadata": {},
      "source": [
        "### Операции над списками"
      ]
    },
    {
      "cell_type": "markdown",
      "metadata": {
        "id": "n21hK7uYXpi_"
      },
      "source": [
        "`x in l` — `true`, если элемент `x` есть в списке `l`:"
      ]
    },
    {
      "cell_type": "code",
      "execution_count": null,
      "metadata": {
        "id": "QGw3DhLYXqZ1"
      },
      "outputs": [],
      "source": [
        "print(1 in numbers)\n",
        "print(666 in numbers)\n"
      ]
    },
    {
      "cell_type": "markdown",
      "metadata": {
        "id": "jlJSIsU1YWJS"
      },
      "source": [
        "`x not in l` — `true`, если элемент `x` отсутствует в `l`:"
      ]
    },
    {
      "cell_type": "code",
      "execution_count": null,
      "metadata": {
        "id": "w7hxt6UTYZt-"
      },
      "outputs": [],
      "source": [
        "print(1 not in numbers)\n",
        "print(666 not in numbers)\n"
      ]
    },
    {
      "cell_type": "markdown",
      "metadata": {
        "id": "0PwkGmCnYeuV"
      },
      "source": [
        "`l1 + l2` — объединение двух списков:"
      ]
    },
    {
      "cell_type": "code",
      "execution_count": null,
      "metadata": {
        "id": "sThxrWpXYjHN"
      },
      "outputs": [],
      "source": [
        "a = [1, 2, 3]\n",
        "b = [3, 4, 5]\n",
        "\n",
        "c = a + b\n",
        "print(a)\n",
        "print(b)\n",
        "print(c)\n"
      ]
    },
    {
      "cell_type": "markdown",
      "metadata": {
        "id": "Cx8wMa5KYxG1"
      },
      "source": [
        "`l * n`, `n * l` — копирует список `n` раз:"
      ]
    },
    {
      "cell_type": "code",
      "execution_count": null,
      "metadata": {
        "id": "Vc0AzKyiY1CK"
      },
      "outputs": [],
      "source": [
        "a = [1, 11, 111]\n",
        "print(a * 6)\n"
      ]
    },
    {
      "cell_type": "markdown",
      "metadata": {
        "id": "xQ6IEMzFY80G"
      },
      "source": [
        "`len(l)` — количество элементов в `l`:"
      ]
    },
    {
      "cell_type": "code",
      "execution_count": null,
      "metadata": {
        "id": "PQ7hYaGLY-9y"
      },
      "outputs": [],
      "source": [
        "print(len(a))\n"
      ]
    },
    {
      "cell_type": "markdown",
      "metadata": {
        "id": "Qmm6LE8JZC_H"
      },
      "source": [
        "`min(l)` — наименьший элемент:"
      ]
    },
    {
      "cell_type": "code",
      "execution_count": null,
      "metadata": {
        "id": "8dD4vz7RZEdi"
      },
      "outputs": [],
      "source": [
        "print(min(a))\n"
      ]
    },
    {
      "cell_type": "markdown",
      "metadata": {
        "id": "CfFuzvAiZJkx"
      },
      "source": [
        "`max(l)` — наибольший элемент:"
      ]
    },
    {
      "cell_type": "code",
      "execution_count": null,
      "metadata": {
        "id": "q2lQOp0CZMzL"
      },
      "outputs": [],
      "source": [
        "print(max(a))\n"
      ]
    },
    {
      "cell_type": "markdown",
      "metadata": {
        "id": "vxNOKJf6ZSlR"
      },
      "source": [
        "`sum(l)` — сумма чисел списка:"
      ]
    },
    {
      "cell_type": "code",
      "execution_count": null,
      "metadata": {
        "id": "ZKoCK96vZT33"
      },
      "outputs": [],
      "source": [
        "print(sum(a))\n"
      ]
    },
    {
      "cell_type": "markdown",
      "metadata": {},
      "source": [
        "### Методы списков"
      ]
    },
    {
      "cell_type": "markdown",
      "metadata": {},
      "source": [
        "#### Index"
      ]
    },
    {
      "cell_type": "markdown",
      "metadata": {
        "id": "BC282cqvZXzs"
      },
      "source": [
        "Возвращает положение первого совпавшего элемента. Поиск совпадения происходит слева направо."
      ]
    },
    {
      "cell_type": "code",
      "execution_count": null,
      "metadata": {
        "id": "MNdbdG0fZoSX"
      },
      "outputs": [],
      "source": [
        "numbers = [1, 5, 9, 6, 1, 2, 1]\n",
        "print(numbers.index(1))\n"
      ]
    },
    {
      "cell_type": "markdown",
      "metadata": {},
      "source": [
        "#### Count"
      ]
    },
    {
      "cell_type": "markdown",
      "metadata": {
        "id": "2D-PXBivZtjy"
      },
      "source": [
        "Данный метод считает, сколько раз указанное значение появляется в списке Python:"
      ]
    },
    {
      "cell_type": "code",
      "execution_count": null,
      "metadata": {
        "id": "UJr5NW41Zwdv"
      },
      "outputs": [],
      "source": [
        "numbers = [1, 5, 9, 6, 1, 2, 1]\n",
        "print(numbers.count(1))\n"
      ]
    },
    {
      "cell_type": "markdown",
      "metadata": {},
      "source": [
        "#### Append"
      ]
    },
    {
      "cell_type": "markdown",
      "metadata": {
        "id": "Hm8R4tKnZzFl"
      },
      "source": [
        "\n",
        "Добавляет указанное значение в конец:"
      ]
    },
    {
      "cell_type": "code",
      "execution_count": null,
      "metadata": {
        "id": "68bcMN9wZ0_p"
      },
      "outputs": [],
      "source": [
        "numbers = [1, 5, 9, 6]\n",
        "numbers.append(3)\n",
        "print(numbers)\n"
      ]
    },
    {
      "cell_type": "markdown",
      "metadata": {},
      "source": [
        "#### Sort"
      ]
    },
    {
      "cell_type": "markdown",
      "metadata": {
        "id": "7WQImH9zZ4sv"
      },
      "source": [
        "Сортирует список в Пайтоне. По умолчанию от меньшего к большему:"
      ]
    },
    {
      "cell_type": "code",
      "execution_count": null,
      "metadata": {
        "id": "xjXaqEBtZ6dh"
      },
      "outputs": [],
      "source": [
        "numbers = [1, 5, 9, 6]\n",
        "numbers.sort()\n",
        "print(numbers)\n"
      ]
    },
    {
      "cell_type": "markdown",
      "metadata": {
        "id": "SuEmJNvAZ-YH"
      },
      "source": [
        "Также можно сортировать последовательность элементов от большего к меньшему:"
      ]
    },
    {
      "cell_type": "code",
      "execution_count": null,
      "metadata": {
        "id": "5wX1gOSbaCPj"
      },
      "outputs": [],
      "source": [
        "numbers = [1, 5, 9, 6]\n",
        "numbers.sort(reverse=True)\n",
        "print(numbers)\n"
      ]
    },
    {
      "cell_type": "markdown",
      "metadata": {},
      "source": [
        "#### Insert"
      ]
    },
    {
      "cell_type": "markdown",
      "metadata": {
        "id": "KM0LrVtQaM1Y"
      },
      "source": [
        "Вставляет элемент перед указанным индексом:"
      ]
    },
    {
      "cell_type": "code",
      "execution_count": null,
      "metadata": {
        "id": "zo9dN1FnaR_C"
      },
      "outputs": [],
      "source": [
        "numbers = [1, 5, 9, 6]\n",
        "numbers.insert(3, [2, 3])\n",
        "print(numbers)\n",
        "numbers.insert(2, 666)\n",
        "print(numbers)\n"
      ]
    },
    {
      "cell_type": "markdown",
      "metadata": {},
      "source": [
        "#### Remove"
      ]
    },
    {
      "cell_type": "markdown",
      "metadata": {
        "id": "P0J9C76FgILi"
      },
      "source": [
        "Удаляет первое попавшееся вхождение элемента в списке Python:"
      ]
    },
    {
      "cell_type": "code",
      "execution_count": null,
      "metadata": {
        "id": "iRor2obdgLzm"
      },
      "outputs": [],
      "source": [
        "numbers = [1, 5, 9, 6, 1, 2, 1]\n",
        "numbers.remove(1)\n",
        "print(numbers)\n"
      ]
    },
    {
      "cell_type": "markdown",
      "metadata": {},
      "source": [
        "#### Extend"
      ]
    },
    {
      "cell_type": "markdown",
      "metadata": {
        "id": "kUL3_TxvgWRw"
      },
      "source": [
        "Подобно методу `append()`, добавляет элементы, но преимущество метода `extend()` в том, что он также позволяет добавлять списки:\n"
      ]
    },
    {
      "cell_type": "code",
      "execution_count": null,
      "metadata": {
        "id": "ygAi-CQbgXH-"
      },
      "outputs": [],
      "source": [
        "numbers = [1, 5, 9, 6]\n",
        "numbers.append([2, 3])\n",
        "print(numbers)\n"
      ]
    },
    {
      "cell_type": "code",
      "execution_count": null,
      "metadata": {},
      "outputs": [],
      "source": [
        "numbers = [1, 5, 9, 6]\n",
        "numbers.extend([2, 3])\n",
        "print(numbers)\n"
      ]
    },
    {
      "cell_type": "markdown",
      "metadata": {},
      "source": [
        "#### Pop"
      ]
    },
    {
      "cell_type": "markdown",
      "metadata": {
        "id": "wENDgNyngk0h"
      },
      "source": [
        "А данный метод удаляет элемент в конкретно указанном индексе, а также выводит удалённый элемент. Если индекс не указан, метод по умолчанию удалит последний элемент:\n"
      ]
    },
    {
      "cell_type": "code",
      "execution_count": null,
      "metadata": {
        "id": "c5KgXXIWglg1"
      },
      "outputs": [],
      "source": [
        "numbers = [1, 5, 9, 6]\n",
        "print(numbers.pop(1))\n",
        "print(numbers)\n"
      ]
    },
    {
      "cell_type": "markdown",
      "metadata": {},
      "source": [
        "#### Join"
      ]
    },
    {
      "cell_type": "markdown",
      "metadata": {
        "id": "BxTxiqwFgv7h"
      },
      "source": [
        "Преобразовывает список в строку. Разделитель элементов пишут в кавычках перед методом, а сам список Питона должен состоять из строк:"
      ]
    },
    {
      "cell_type": "code",
      "execution_count": null,
      "metadata": {
        "id": "_FTffTmfgt4O"
      },
      "outputs": [],
      "source": [
        "mylist = ['тут', 'был', 'текст']\n",
        "print(', '.join(mylist))\n"
      ]
    },
    {
      "cell_type": "markdown",
      "metadata": {},
      "source": [
        "### [Методы словарей](https://tproger.ru/explain/python-dictionaries/)"
      ]
    },
    {
      "cell_type": "markdown",
      "metadata": {
        "id": "SuK-mcb2g91z"
      },
      "source": [
        "О методах можно подробнее ознакомиться по ссылке в заголовке."
      ]
    },
    {
      "cell_type": "markdown",
      "metadata": {
        "id": "5usf7S9OhW5I"
      },
      "source": [
        "#### Итерация через словарь"
      ]
    },
    {
      "cell_type": "code",
      "execution_count": null,
      "metadata": {
        "id": "3W4HL3F2hcJp"
      },
      "outputs": [],
      "source": [
        "dictionary = {'персона': 'человек',\n",
        "              'марафон': 'гонка бегунов длиной около 26 миль',\n",
        "              'противостоять': 'оставаться сильным, несмотря на давление',\n",
        "              'бежать': 'двигаться со скоростью'}\n"
      ]
    },
    {
      "cell_type": "code",
      "execution_count": null,
      "metadata": {
        "id": "DtZgziE7hfNR"
      },
      "outputs": [],
      "source": [
        "for key in dictionary:\n",
        "    print(key)\n"
      ]
    },
    {
      "cell_type": "code",
      "execution_count": null,
      "metadata": {
        "id": "wWci7z_khiCX"
      },
      "outputs": [],
      "source": [
        "for key, value in dictionary.items():\n",
        "    print(key, value)\n"
      ]
    },
    {
      "cell_type": "code",
      "execution_count": null,
      "metadata": {
        "id": "zuosaVdXhlo0"
      },
      "outputs": [],
      "source": [
        "for value in dictionary.values():\n",
        "    print(value)\n"
      ]
    },
    {
      "cell_type": "markdown",
      "metadata": {},
      "source": [
        "### Работа со строками"
      ]
    },
    {
      "cell_type": "markdown",
      "metadata": {},
      "source": [
        "#### [Операторы строк](https://pythonru.com/osnovy/stroki-python)\n"
      ]
    },
    {
      "cell_type": "markdown",
      "metadata": {
        "id": "AnfHmboAiGc-"
      },
      "source": [
        "`+` — оператор конкатенации строк. Он возвращает строку, состоящую из других строк:"
      ]
    },
    {
      "cell_type": "code",
      "execution_count": null,
      "metadata": {
        "id": "8NBH6TDSiZky"
      },
      "outputs": [],
      "source": [
        "s = 'py'\n",
        "t = 'th'\n",
        "u = 'on'\n"
      ]
    },
    {
      "cell_type": "code",
      "execution_count": null,
      "metadata": {
        "id": "EZDwnQ58icme"
      },
      "outputs": [],
      "source": [
        "s + t\n"
      ]
    },
    {
      "cell_type": "code",
      "execution_count": null,
      "metadata": {
        "id": "My-ClLweie1i"
      },
      "outputs": [],
      "source": [
        "s + t + u\n"
      ]
    },
    {
      "cell_type": "markdown",
      "metadata": {
        "id": "RJTzxkY3ijeJ"
      },
      "source": [
        "`*` — оператор создает несколько копий строки:"
      ]
    },
    {
      "cell_type": "code",
      "execution_count": null,
      "metadata": {
        "id": "yurgoCwLikHA"
      },
      "outputs": [],
      "source": [
        "s * 4\n"
      ]
    },
    {
      "cell_type": "code",
      "execution_count": null,
      "metadata": {
        "id": "8S-IzPR3irZJ"
      },
      "outputs": [],
      "source": [
        "4 * s\n"
      ]
    },
    {
      "cell_type": "markdown",
      "metadata": {},
      "source": [
        "#### Функции строк\n"
      ]
    },
    {
      "cell_type": "markdown",
      "metadata": {
        "id": "KNwhIoIZi02w"
      },
      "source": [
        "| Функция | Описание |\n",
        "| --- | --- |\n",
        "| chr() |\tПреобразует целое число в символ |\n",
        "| ord() | Преобразует символ в целое число |\n",
        "| len() |\tВозвращает длину строки |\n",
        "| str() |\tИзменяет тип объекта на string |"
      ]
    },
    {
      "cell_type": "markdown",
      "metadata": {
        "id": "AoQDBFRUjfoP"
      },
      "source": [
        "#### Индексация строк"
      ]
    },
    {
      "cell_type": "code",
      "execution_count": null,
      "metadata": {
        "id": "yqNtQ8C7jdZG"
      },
      "outputs": [],
      "source": [
        "s = 'foobar'\n",
        "print(s[0])\n",
        "print(s[1])\n",
        "print(s[-1])\n",
        "print(s[-6])\n"
      ]
    },
    {
      "cell_type": "markdown",
      "metadata": {},
      "source": [
        "#### Срезы строк"
      ]
    },
    {
      "cell_type": "markdown",
      "metadata": {
        "id": "rxhY53ASjxAb"
      },
      "source": [
        "Аналогично спискам."
      ]
    },
    {
      "cell_type": "markdown",
      "metadata": {},
      "source": [
        "#### [Форматирование строки](https://pythonru.com/osnovy/stroki-python)"
      ]
    },
    {
      "cell_type": "markdown",
      "metadata": {
        "id": "CaAMg3k5j3D4"
      },
      "source": [
        "В Python версии 3.6 был представлен новый способ форматирования строк. Эта функция официально названа литералом отформатированной строки, но обычно упоминается как f-string.\n",
        "\n",
        "Возможности форматирования строк огромны и не будут подробно описана здесь.\n",
        "Одной простой особенностью f-строк, которые вы можете начать использовать сразу, является интерполяция переменной. Вы можете указать имя переменной непосредственно в f-строковом литерале (`f'string'`), и python заменит имя соответствующим значением."
      ]
    },
    {
      "cell_type": "code",
      "execution_count": null,
      "metadata": {
        "id": "BB6WCghHkNi_"
      },
      "outputs": [],
      "source": [
        "n = 20\n",
        "m = 25\n",
        "prod = n * m\n"
      ]
    },
    {
      "cell_type": "code",
      "execution_count": null,
      "metadata": {
        "id": "axZU1305kuUg"
      },
      "outputs": [],
      "source": [
        "print('Произведение' + str(n) + 'на' + str(m) + 'равно' + str(prod))\n"
      ]
    },
    {
      "cell_type": "code",
      "execution_count": null,
      "metadata": {
        "id": "Hbzq_-3pkuaa"
      },
      "outputs": [],
      "source": [
        "print('Произведение', n, 'на', m, 'равно', prod)\n"
      ]
    },
    {
      "cell_type": "code",
      "execution_count": null,
      "metadata": {
        "id": "9CRspcy6kSH9"
      },
      "outputs": [],
      "source": [
        "print(f'Произведение {n} на {m} равно {prod}')\n"
      ]
    },
    {
      "cell_type": "markdown",
      "metadata": {
        "id": "2GEAbRFLlUP_"
      },
      "source": [
        "Любой из трех типов кавычек в python можно использовать для f-строки:"
      ]
    },
    {
      "cell_type": "code",
      "execution_count": null,
      "metadata": {
        "id": "2RjRhQqwlV7K"
      },
      "outputs": [],
      "source": [
        "var = 'Гав'\n",
        "print(f'Собака говорит {var}!')\n",
        "print(f\"Собака говорит {var}!\")\n",
        "print(f'''Собака говорит {var}!''')\n"
      ]
    },
    {
      "cell_type": "markdown",
      "metadata": {},
      "source": [
        "#### Изменение строк"
      ]
    },
    {
      "cell_type": "markdown",
      "metadata": {
        "id": "TvBbAea9la8y"
      },
      "source": [
        "Строки — один из типов данных, которые Python считает неизменяемыми, что означает невозможность их изменять."
      ]
    },
    {
      "cell_type": "code",
      "execution_count": null,
      "metadata": {
        "id": "mHAgeoGAljN0"
      },
      "outputs": [],
      "source": [
        "s = 'python'\n",
        "s[3] = 't'\n"
      ]
    },
    {
      "cell_type": "code",
      "execution_count": null,
      "metadata": {
        "id": "Yq4yDuu3lmhl"
      },
      "outputs": [],
      "source": [
        "s = s[:3] + 't' + s[4:]\n",
        "print(s)\n"
      ]
    },
    {
      "cell_type": "code",
      "execution_count": null,
      "metadata": {
        "id": "dekL8zv0lsGa"
      },
      "outputs": [],
      "source": [
        "s = 'python'\n",
        "s = s.replace('h', 't')\n",
        "print(s)\n"
      ]
    },
    {
      "cell_type": "markdown",
      "metadata": {},
      "source": [
        "#### [Функции и методы строк](https://pythonworld.ru/tipy-dannyx-v-python/stroki-funkcii-i-metody-strok.html)\n"
      ]
    },
    {
      "cell_type": "markdown",
      "metadata": {
        "id": "6uPjG8otl7g6"
      },
      "source": [
        "О методах можно подробнее ознакомиться по ссылке в заголовке."
      ]
    },
    {
      "cell_type": "markdown",
      "metadata": {},
      "source": [
        "### [List, dict, set comprehensions (генераторы)](https://pyneng.readthedocs.io/ru/latest/book/08_useful_basics/x_comprehensions.html)\n"
      ]
    },
    {
      "cell_type": "markdown",
      "metadata": {
        "id": "n46OhlG5m1ms"
      },
      "source": [
        "Python поддерживает специальные выражения, которые позволяют компактно создавать списки, словари и множества.\n",
        "\n",
        "На английском эти выражения называются, соответственно:\n",
        "\n",
        "- [List comprehensions](https://pythonru.com/osnovy/python-list-comprehension) `[kɒmprɪˈhenʃns]`\n",
        "- [Dict comprehensions](https://pythonguides.com/python-dictionary-comprehension/)\n",
        "- [Set comprehensions](https://medium.com/swlh/set-comprehension-in-python3-for-beginners-80561a9b4007)\n",
        "\n",
        "\n",
        "С примерами можно ознакомиться ниже.\n"
      ]
    },
    {
      "cell_type": "markdown",
      "metadata": {},
      "source": [
        "## Объектно-ориентированное программирование"
      ]
    },
    {
      "cell_type": "markdown",
      "metadata": {},
      "source": [
        "Объектно-ориентированное программирование (ООП) — это подход, при котором программа рассматривается как набор объектов, взаимодействующих друг с другом. У каждого есть свойства и поведение. ООП ускоряет написание кода и делает его более читаемым."
      ]
    },
    {
      "cell_type": "markdown",
      "metadata": {},
      "source": [
        "### [Объекты и классы](https://blog.skillfactory.ru/glossary/oop-obektno-orientirovannoe-programmirovanie/)"
      ]
    },
    {
      "cell_type": "markdown",
      "metadata": {},
      "source": [
        "**Класс** — это \"шаблон\" для объекта, который описывает его свойства. Несколько похожих между собой объектов, например профили разных пользователей, будут иметь одинаковую структуру, а значит, принадлежать к одному классу.\n",
        "\n",
        "Каждый **объект** — это экземпляр какого-нибудь класса.\n",
        "\n",
        "**Объект** — это набор переменных и функций, как в традиционном функциональном программировании. Переменные и функции и есть его свойства.\n",
        "\n",
        "**Атрибуты** — это переменные, конкретные характеристики объекта, такие как цвет поля или имя пользователя.\n",
        "\n",
        "**Методы** — это функции, которые описаны внутри объекта или класса. Они относятся к определенному объекту и позволяют взаимодействовать с ними или другими частями кода."
      ]
    },
    {
      "cell_type": "markdown",
      "metadata": {},
      "source": [
        "### [Принципы ООП](https://otus.ru/nest/post/651/)"
      ]
    },
    {
      "cell_type": "markdown",
      "metadata": {},
      "source": [
        "Рекомендуется обратить внимание на [\"Объектно-ориентированное программирование простым языком — объясняют эксперты\"](https://tproger.ru/experts/oop-in-simple-words/)."
      ]
    },
    {
      "cell_type": "markdown",
      "metadata": {},
      "source": [
        "Выделяют три основных \"столпа\" ООП - это:\n",
        "\n",
        "- инкапсуляция;\n",
        "- наследование;\n",
        "- полиморфизм."
      ]
    },
    {
      "cell_type": "markdown",
      "metadata": {},
      "source": [
        "![image](images/pillars-ooa.jpg)"
      ]
    },
    {
      "cell_type": "markdown",
      "metadata": {},
      "source": [
        "#### Инкапсуляция"
      ]
    },
    {
      "cell_type": "markdown",
      "metadata": {},
      "source": [
        "Этот термин для объектно-ориентированного программирования означает ограничение доступа к каким-либо данным, то есть ограничивается возможность изменения этих самых данных. Проще говоря, есть «капсула», в которую мы «прячем» важные параметры, когда не хотим, чтобы кто-либо их менял. "
      ]
    },
    {
      "cell_type": "markdown",
      "metadata": {},
      "source": [
        "#### Наследование"
      ]
    },
    {
      "cell_type": "markdown",
      "metadata": {},
      "source": [
        "Это механизм, позволяющий описать новый класс на основании родительского (существующего). Причём функциональность и свойства родительского класса заимствуются новым. "
      ]
    },
    {
      "cell_type": "markdown",
      "metadata": {},
      "source": [
        "Иными словами, когда вы применяете наследование в программировании, отпадает необходимость реализовывать общий базовый функционал прочих классов, так как вполне достаточно применить наследование, благодаря которому ваш класс сразу будет обладать нужными родительскими знаниями."
      ]
    },
    {
      "cell_type": "markdown",
      "metadata": {},
      "source": [
        "#### Полиморфизм"
      ]
    },
    {
      "cell_type": "markdown",
      "metadata": {
        "id": "3TYFoLqkxIRU"
      },
      "source": [
        "Полиморфизм позволяет одинаково обращаться с объектами, имеющими однотипный интерфейс, независимо от внутренней реализации объекта. Например, с объектом класса \"грузовой автомобиль\" можно производить те же операции, что и с объектом класса \"автомобиль\", т.к. первый является наследником второго, при этом обратное утверждение неверно (во всяком случае не всегда). Другими словами полиморфизм предполагает ***разную реализацию методов с одинаковыми именами***. Это очень полезно при наследовании, когда в классе наследнике можно переопределить методы класса родителя.\n",
        "\n",
        "Также полиморфизмом называют способность функции обрабатывать данные разных типов. Пример — автомат на вокзале, принимающий для оплаты как наличные, так и банковские карты.\n",
        "\n",
        "Другими словами о [полиморфизме](https://vertex-academy.com/tutorials/ru/chto-takoe-polimorfizm-java/):\n",
        "\n",
        "**Полиморфизм** - возможность применения одноименных методов с одинаковыми или различными наборами параметров в одном классе или в группе классов, связанных отношением наследования.\n"
      ]
    },
    {
      "cell_type": "markdown",
      "metadata": {},
      "source": [
        "### Недостаки ООП"
      ]
    },
    {
      "cell_type": "markdown",
      "metadata": {},
      "source": [
        "С одной из критик ООП можно ознакомиться [здесь](https://tproger.ru/translations/oop-the-trillion-dollar-disaster/)."
      ]
    },
    {
      "cell_type": "markdown",
      "metadata": {},
      "source": [
        "Про большие проблемы наследования в ООП: [ссылка](https://habr.com/ru/post/351730/) и [несерьезная ссылка](https://www.youtube.com/watch?v=-n6784KeQMs)"
      ]
    },
    {
      "cell_type": "markdown",
      "metadata": {},
      "source": [
        "### [Создание классов и объектов](https://devpractice.ru/python-lesson-14-classes-and-objects/)"
      ]
    },
    {
      "cell_type": "markdown",
      "metadata": {
        "id": "ddyFDYnk0I_M"
      },
      "source": [
        "Создание класса в Python начинается с инструкции class. Вот так будет выглядеть минимальный класс:"
      ]
    },
    {
      "cell_type": "code",
      "execution_count": null,
      "metadata": {
        "id": "MO6ZKajtoL2v"
      },
      "outputs": [],
      "source": [
        "class C:\n",
        "    pass\n"
      ]
    },
    {
      "cell_type": "markdown",
      "metadata": {
        "id": "vVdGr-Fr0bCE"
      },
      "source": [
        "Класс состоит из объявления (инструкция `class`), имени класса (нашем случае это имя `C`) и тела класса, которое содержит атрибуты и методы (в нашем минимальном классе есть только одна инструкция `pass`).\n",
        "\n",
        "Для того чтобы создать объект класса необходимо воспользоваться следующим синтаксисом:"
      ]
    },
    {
      "cell_type": "code",
      "execution_count": null,
      "metadata": {
        "id": "ewH-s31J1Woz"
      },
      "outputs": [],
      "source": [
        "object_name = C()\n"
      ]
    },
    {
      "cell_type": "markdown",
      "metadata": {
        "id": "e7lqum4X1U6P"
      },
      "source": [
        "Функция `DIR` возвращает имена [переменных], доступные в локальной области, либо атрибуты указанного объекта в алфавитном порядке.\n"
      ]
    },
    {
      "cell_type": "code",
      "execution_count": null,
      "metadata": {
        "id": "izHkcUca0xZh"
      },
      "outputs": [],
      "source": [
        "import pprint\n",
        "pp = pprint.PrettyPrinter(indent=4)\n",
        "\n",
        "pp.pprint(dir(object_name))\n"
      ]
    },
    {
      "cell_type": "markdown",
      "metadata": {
        "id": "YoNRHSS22fov"
      },
      "source": [
        "Без аргументов, dir() возвращает список имён, определённых в текущей области видимости:"
      ]
    },
    {
      "cell_type": "code",
      "execution_count": null,
      "metadata": {
        "id": "OvHpB8QF2QnR"
      },
      "outputs": [],
      "source": [
        "pp.pprint(dir())\n"
      ]
    },
    {
      "cell_type": "markdown",
      "metadata": {},
      "source": [
        "### Статические и не статические атрибуты класса\n"
      ]
    },
    {
      "cell_type": "markdown",
      "metadata": {
        "id": "Pq1NM_n83q8j"
      },
      "source": [
        "Как уже было сказано выше, класс может содержать атрибуты и методы. Атрибут может быть статическим и не статическим (уровня объекта класса). Суть в том, что для работы со статическим атрибутом, вам не нужно создавать экземпляр класса, а для работы с не статическим – нужно. Пример:"
      ]
    },
    {
      "cell_type": "code",
      "execution_count": null,
      "metadata": {
        "id": "0yP7TNXW4A-j"
      },
      "outputs": [],
      "source": [
        "class Rectangle:\n",
        "    default_color = \"red\"\n",
        "\n",
        "    def __init__(self, width, height):\n",
        "        self.width = width\n",
        "        self.height = height\n"
      ]
    },
    {
      "cell_type": "code",
      "execution_count": null,
      "metadata": {
        "id": "dCgJIFR14Wgw"
      },
      "outputs": [],
      "source": [
        "myRectangle = Rectangle(22, 88)\n",
        "pp.pprint(dir(myRectangle))\n",
        "print(myRectangle.default_color)\n",
        "print(myRectangle.default_color)\n",
        "print(myRectangle.default_color)\n",
        "print(myRectangle.width)\n"
      ]
    },
    {
      "cell_type": "markdown",
      "metadata": {
        "id": "i8iAndah51O1"
      },
      "source": [
        "Присвоим ему новое значение:"
      ]
    },
    {
      "cell_type": "code",
      "execution_count": null,
      "metadata": {
        "id": "Hr3Yrxu95r5m"
      },
      "outputs": [],
      "source": [
        "Rectangle.default_color = \"green\"\n",
        "print(Rectangle.default_color)\n"
      ]
    },
    {
      "cell_type": "markdown",
      "metadata": {},
      "source": [
        "Вообще напрямую работать с атрибутами – не очень хорошая идея, лучше для этого использовать свойства."
      ]
    },
    {
      "cell_type": "markdown",
      "metadata": {},
      "source": [
        "### Методы класса"
      ]
    },
    {
      "cell_type": "markdown",
      "metadata": {
        "id": "fs84RoXs575X"
      },
      "source": [
        "Добавим к нашему классу метод. **Метод** – это функция, находящаяся внутри класса и выполняющая определенную работу.\n",
        "\n",
        "Методы бывают *статическими*, *классовыми* (среднее между статическими и обычными) и *уровня класса* (будем их называть просто словом метод). Статический метод создается с декоратором `@staticmethod`, классовый – с декоратором `@classmethod`, первым аргументом в него передается cls, обычный метод создается без специального декоратора, ему первым аргументом передается self:"
      ]
    },
    {
      "cell_type": "code",
      "execution_count": null,
      "metadata": {
        "id": "Y4EOC9VM592E"
      },
      "outputs": [],
      "source": [
        "class Rectangle:\n",
        "    default_color = \"red\"\n",
        "\n",
        "    def __init__(self, width, height):\n",
        "        self.width = width\n",
        "        self.height = height\n",
        "\n",
        "    @staticmethod\n",
        "    def ex_static_method():\n",
        "        print(\"static method\")\n",
        "\n",
        "    @classmethod\n",
        "    def ex_class_method(cls):\n",
        "        print(\"class method\", cls)\n",
        "\n",
        "    def ex_method(self):\n",
        "        print(\"method\", self)\n"
      ]
    },
    {
      "cell_type": "markdown",
      "metadata": {
        "id": "WdgciRVU6gXM"
      },
      "source": [
        "Статический и классовый метод можно вызвать, не создавая экземпляр класса, для вызова ex_method() нужен объект:"
      ]
    },
    {
      "cell_type": "code",
      "execution_count": null,
      "metadata": {
        "id": "VeUuAd_v6jUP"
      },
      "outputs": [],
      "source": [
        "Rectangle.ex_static_method()\n",
        "Rectangle.ex_class_method()\n",
        "myNewRectangle = Rectangle(8, 8)\n",
        "myNewRectangle.ex_method()\n"
      ]
    },
    {
      "cell_type": "markdown",
      "metadata": {},
      "source": [
        "#### [Что такое self?](https://python-scripts.com/python-class)\n"
      ]
    },
    {
      "cell_type": "markdown",
      "metadata": {
        "id": "hboqHPYd_iDN"
      },
      "source": [
        "Классам нужен способ, что ссылаться на самих себя. Это способ сообщения между экземплярами. Слово self это способ описания любого объекта, буквально."
      ]
    },
    {
      "cell_type": "markdown",
      "metadata": {
        "id": "koKNP5k_91kY"
      },
      "source": [
        "#### [Зачем нужен декаратор classmethod?](https://youtu.be/HXd9OYK1FNA)"
      ]
    },
    {
      "cell_type": "code",
      "execution_count": null,
      "metadata": {
        "id": "O4XwJjWx-EDL"
      },
      "outputs": [],
      "source": [
        "class Person:\n",
        "\n",
        "    def __init__(self, first_name, last_name):\n",
        "        self.first_name = first_name\n",
        "        self.last_name = last_name\n",
        "\n",
        "    @classmethod\n",
        "    def create_person_from_list(cls, data):\n",
        "        first_name, last_name = data\n",
        "        return cls(first_name, last_name)\n",
        "\n",
        "    def get_info(self):\n",
        "        return \"First name: {0}; Last name: {1}\".format(self.first_name, self.last_name)\n"
      ]
    },
    {
      "cell_type": "code",
      "execution_count": null,
      "metadata": {
        "id": "ZoYNx5a7_JDz"
      },
      "outputs": [],
      "source": [
        "p = Person.create_person_from_list([\"Dan\", \"Pen\"])\n",
        "p.get_info()\n"
      ]
    },
    {
      "cell_type": "markdown",
      "metadata": {},
      "source": [
        "#### Конструктор класса и инициализация экземпляра класса\n"
      ]
    },
    {
      "cell_type": "markdown",
      "metadata": {
        "id": "w1myBa2x_0QJ"
      },
      "source": [
        "В Python разделяют конструктор класса и метод для инициализации экземпляра класса. Конструктор класса это метод `__new__(cls, *args, **kwargs)` для инициализации экземпляра класса используется метод `__init__(self)`. При этом, как вы могли заметить `__new__` – это классовый метод, а `__init__` таким не является. Метод `__new__` редко переопределяется, чаще используется реализация от базового класса `object`, `__init__` же наоборот является очень удобным способом задать параметры объекта при его создании."
      ]
    },
    {
      "cell_type": "code",
      "execution_count": null,
      "metadata": {
        "id": "81ROPwOS_OnT"
      },
      "outputs": [],
      "source": [
        "class Rectangle:\n",
        "\n",
        "    def __new__(cls, *args, **kwargs):\n",
        "        print(\"Hello from __new__\")\n",
        "        return super().__new__(cls)\n",
        "\n",
        "    def __init__(self, width, height):\n",
        "        print(\"Hello from __init__\")\n",
        "        self.width = width\n",
        "        self.height = height\n"
      ]
    },
    {
      "cell_type": "code",
      "execution_count": null,
      "metadata": {
        "id": "bWqZKv_SCGRc"
      },
      "outputs": [],
      "source": [
        "rq1 = Rectangle(12, 12)\n"
      ]
    },
    {
      "cell_type": "markdown",
      "metadata": {},
      "source": [
        "### [Упрощенное создание классов](https://proglib.io/p/new-python/)\n"
      ]
    },
    {
      "cell_type": "markdown",
      "metadata": {
        "id": "zszGYSo2CyCM"
      },
      "source": [
        "В Python 3.7 появился новый модуль `dataclasses` и декоратор `@dataclass`, облегчающий создание пользовательских классов. Он автоматически добавляет специальные методы вроде `__init__`, `__repr__` и `__eq__`."
      ]
    },
    {
      "cell_type": "code",
      "execution_count": null,
      "metadata": {
        "id": "kUlJv3GXCrOR"
      },
      "outputs": [],
      "source": [
        "import sys\n",
        "print(sys.version_info)\n"
      ]
    },
    {
      "cell_type": "code",
      "execution_count": null,
      "metadata": {},
      "outputs": [],
      "source": [
        "from dataclasses import dataclass, field\n",
        "\n",
        "\n",
        "@dataclass(order=True)\n",
        "class Country:\n",
        "    name: str\n",
        "    population: int\n",
        "    area: float = field(repr=False, compare=False)\n",
        "    coastline: float = 0\n",
        "\n",
        "    def beach_per_person(self):\n",
        "        \"\"\"Meters of coastline per person\"\"\"\n",
        "        return (self.coastline * 1000) / self.population\n"
      ]
    },
    {
      "cell_type": "markdown",
      "metadata": {},
      "source": [
        "Если не использовать декоратор `@dataclass`, то класс `Country` выглядел бы следующим образом:"
      ]
    },
    {
      "cell_type": "code",
      "execution_count": null,
      "metadata": {},
      "outputs": [],
      "source": [
        "class Country:\n",
        "\n",
        "    def __init__(self, name, population, area, coastline=0):\n",
        "        self.name = name\n",
        "        self.population = population\n",
        "        self.area = area\n",
        "        self.coastline = coastline\n",
        "\n",
        "    def __repr__(self):\n",
        "        return (\n",
        "            f\"Country(name={self.name!r}, population={self.population!r},\"\n",
        "            f\" coastline={self.coastline!r})\"\n",
        "        )\n",
        "\n",
        "    def __eq__(self, other):\n",
        "        if other.__class__ is self.__class__:\n",
        "            return (\n",
        "                (self.name, self.population, self.coastline)\n",
        "                == (other.name, other.population, other.coastline)\n",
        "            )\n",
        "        return NotImplemented\n",
        "\n",
        "    def __ne__(self, other):\n",
        "        if other.__class__ is self.__class__:\n",
        "            return (\n",
        "                (self.name, self.population, self.coastline)\n",
        "                != (other.name, other.population, other.coastline)\n",
        "            )\n",
        "        return NotImplemented\n",
        "\n",
        "    def __lt__(self, other):\n",
        "        if other.__class__ is self.__class__:\n",
        "            return ((self.name, self.population, self.coastline) < (\n",
        "                other.name, other.population, other.coastline\n",
        "            ))\n",
        "        return NotImplemented\n",
        "\n",
        "    def __le__(self, other):\n",
        "        if other.__class__ is self.__class__:\n",
        "            return ((self.name, self.population, self.coastline) <= (\n",
        "                other.name, other.population, other.coastline\n",
        "            ))\n",
        "        return NotImplemented\n",
        "\n",
        "    def __gt__(self, other):\n",
        "        if other.__class__ is self.__class__:\n",
        "            return ((self.name, self.population, self.coastline) > (\n",
        "                other.name, other.population, other.coastline\n",
        "            ))\n",
        "        return NotImplemented\n",
        "\n",
        "    def __ge__(self, other):\n",
        "        if other.__class__ is self.__class__:\n",
        "            return ((self.name, self.population, self.coastline) >= (\n",
        "                other.name, other.population, other.coastline\n",
        "            ))\n",
        "        return NotImplemented\n",
        "\n",
        "    def beach_per_person(self):\n",
        "        \"\"\"Meters of coastline per person\"\"\"\n",
        "        return (self.coastline * 1000) / self.population\n"
      ]
    },
    {
      "cell_type": "markdown",
      "metadata": {},
      "source": [
        "### Уровни доступа атрибута и метода\n"
      ]
    },
    {
      "cell_type": "markdown",
      "metadata": {
        "id": "ARKLlAEOKf_g"
      },
      "source": [
        "Если вы знакомы с языками программирования Java, C#, C++ то, наверное, уже задались вопросом: \"а как управлять уровнем доступа?\". В перечисленных языка вы можете явно указать для переменной, что доступ к ней снаружи класса запрещен, это делается с помощью ключевых слов (`private`, `protected` и т.д.). В Python таких возможностей нет, и любой может обратиться к атрибутам и методам вашего класса, если возникнет такая необходимость. Это существенный недостаток этого языка, т.к. нарушается один из ключевых принципов ООП – инкапсуляция. Хорошим тоном считается, что для чтения/изменения какого-то атрибута должны использоваться специальные методы, которые называются `getter/setter`, их можно реализовать, но ничего не помешает изменить атрибут напрямую. При этом есть соглашение, что метод или атрибут, который начинается с нижнего подчеркивания, является скрытым, и снаружи класса трогать его не нужно (хотя сделать это можно)."
      ]
    },
    {
      "cell_type": "code",
      "execution_count": null,
      "metadata": {
        "id": "WzoS1t91K_ku"
      },
      "outputs": [],
      "source": [
        "class Rectangle:\n",
        "\n",
        "    def __init__(self, width, height):\n",
        "        self.__width = width\n",
        "        self.__height = height\n",
        "\n",
        "    def get_width(self):\n",
        "        return self.__width\n",
        "\n",
        "    def set_width(self, val):\n",
        "        self.__width = val\n",
        "\n",
        "    def get_height(self):\n",
        "        return self.__height\n",
        "\n",
        "    def set_height(self, val):\n",
        "        self.__height = val\n"
      ]
    },
    {
      "cell_type": "code",
      "execution_count": null,
      "metadata": {
        "id": "DyIz0VbiL03w"
      },
      "outputs": [],
      "source": [
        "rect = Rectangle(10, 20)\n",
        "rect.__width\n"
      ]
    },
    {
      "cell_type": "markdown",
      "metadata": {
        "id": "BdykgCQeMRIr"
      },
      "source": [
        "Попытка обратиться к __width напрямую вызовет ошибку, нужно работать только через get_width():"
      ]
    },
    {
      "cell_type": "code",
      "execution_count": null,
      "metadata": {
        "id": "3r6yXngyL_6g"
      },
      "outputs": [],
      "source": [
        "rect.get_width()\n"
      ]
    },
    {
      "cell_type": "markdown",
      "metadata": {},
      "source": [
        "Но на самом деле это сделать можно, просто этот атрибут теперь для внешнего использования носит название: _Rectangle__width:"
      ]
    },
    {
      "cell_type": "markdown",
      "metadata": {
        "id": "8p5AhF36MHVF"
      },
      "source": [
        "![meme private](images/meme-private.jpg)\n"
      ]
    },
    {
      "cell_type": "code",
      "execution_count": null,
      "metadata": {
        "id": "qTKrONwWdmQX"
      },
      "outputs": [],
      "source": [
        "rect._Rectangle__width\n"
      ]
    },
    {
      "cell_type": "markdown",
      "metadata": {
        "id": "qVvYUNEsds9w"
      },
      "source": [
        "### Свойства\n",
        "\n",
        "Свойством называется такой метод класса, работа с которым подобна работе с атрибутом. Для объявления метода свойством необходимо использовать декоратор `@property`.\n",
        "\n",
        "Важным преимуществом работы через свойства является то, что вы можете осуществлять проверку входных значений, перед тем как присвоить их атрибутам."
      ]
    },
    {
      "cell_type": "code",
      "execution_count": null,
      "metadata": {
        "id": "gfpNX-Y5eKN1"
      },
      "outputs": [],
      "source": [
        "class Rectangle:\n",
        "\n",
        "    def __init__(self, width, height):\n",
        "        self.__width = width\n",
        "        self.__height = height\n",
        "\n",
        "    @property\n",
        "    def width(self):\n",
        "        return self.__width\n",
        "\n",
        "    @width.setter\n",
        "    def width(self, val):\n",
        "        self.__width = val\n",
        "\n",
        "    @property\n",
        "    def height(self):\n",
        "        return self.__height\n",
        "\n",
        "    @height.setter\n",
        "    def height(self, val):\n",
        "        self.__height = val\n"
      ]
    },
    {
      "cell_type": "code",
      "execution_count": null,
      "metadata": {
        "id": "k9Oaz-olea5i"
      },
      "outputs": [],
      "source": [
        "rect = Rectangle(10, 20)\n",
        "print(rect.width)\n",
        "rect.width = 101\n",
        "print(rect.width)\n"
      ]
    },
    {
      "cell_type": "markdown",
      "metadata": {
        "id": "Fezl047DiS7r"
      },
      "source": [
        "### Наследование\n",
        "\n",
        "\n",
        "В организации наследования участвуют как минимум два класса: класс родитель и класс потомок. При этом возможно множественное наследование, в этом случае у класса потомка может быть несколько родителей. Не все языки программирования поддерживают множественное наследование, но в Python можно его использовать. По умолчанию все классы в Python являются наследниками от object, явно этот факт указывать не нужно.\n",
        "\n",
        "Синтаксически создание класса с указанием его родителя выглядит так:\n",
        "\n",
        "```\n",
        "class имя_класса(имя_родителя1, [имя_родителя2,…, имя_родителя_n])\n",
        "```"
      ]
    },
    {
      "cell_type": "code",
      "execution_count": null,
      "metadata": {
        "id": "_D5zd5DMiZxg"
      },
      "outputs": [],
      "source": [
        "class Figure:\n",
        "    def __init__(self, color):\n",
        "        self.__color = color\n",
        "\n",
        "    @property\n",
        "    def color(self):\n",
        "        return self.__color\n",
        "\n",
        "    @color.setter\n",
        "    def color(self, c):\n",
        "        self.__color = c\n",
        "\n",
        "\n",
        "class Rectangle(Figure):\n",
        "\n",
        "    def __init__(self, width, height):\n",
        "        self.__width = width\n",
        "        self.__height = height\n",
        "\n",
        "    def __init__(self, width, height, color):\n",
        "        # super – это ключевое слово, которое используется для обращения к\n",
        "        # родительскому классу.\n",
        "        super().__init__(color)\n",
        "        self.__width = width\n",
        "        self.__height = height\n",
        "\n",
        "    @property\n",
        "    def width(self):\n",
        "        return self.__width\n",
        "\n",
        "    @width.setter\n",
        "    def width(self, val):\n",
        "        self.__width = val\n",
        "\n",
        "    @property\n",
        "    def height(self):\n",
        "        return self.__height\n",
        "\n",
        "    @height.setter\n",
        "    def height(self, val):\n",
        "        self.__height = val\n"
      ]
    },
    {
      "cell_type": "code",
      "execution_count": null,
      "metadata": {
        "id": "OJ-uhMVlir0N"
      },
      "outputs": [],
      "source": [
        "rect = Rectangle(10, 20, \"red\")\n",
        "rect.color\n"
      ]
    },
    {
      "cell_type": "markdown",
      "metadata": {
        "id": "Pi3SWQuVjUHh"
      },
      "source": [
        "### Полиморфизм\n",
        "\n",
        "Как уже было сказано во введении в рамках ООП полиморфизм, как правило, используется с позиции переопределения методов базового класса в классе наследнике. Проще всего это рассмотреть на примере."
      ]
    },
    {
      "cell_type": "code",
      "execution_count": null,
      "metadata": {
        "id": "hc2CWRHxjsel"
      },
      "outputs": [],
      "source": [
        "class Vehicle:\n",
        "    def __init__(self, brand):\n",
        "        self.__brand = brand\n",
        "\n",
        "    def info(self):\n",
        "        return \"Brand: {0}\".format(self.__brand)\n",
        "\n",
        "\n",
        "class Lorry(Vehicle):\n",
        "    def __init__(self, brand, tonnage):\n",
        "        super().__init__(brand)\n",
        "        self.__tonnage = tonnage\n",
        "\n",
        "    def info(self):\n",
        "        return \"Brand: {0}; Tonnage {1}\".format(self._Vehicle__brand, self.__tonnage)\n"
      ]
    },
    {
      "cell_type": "code",
      "execution_count": null,
      "metadata": {
        "id": "toEQbxj6kk9I"
      },
      "outputs": [],
      "source": [
        "myCar = Vehicle(\"BMW\")\n",
        "print(myCar.info())\n",
        "myLorry = Lorry(\"Man\", 12)\n",
        "print(myLorry.info())\n"
      ]
    },
    {
      "cell_type": "markdown",
      "metadata": {},
      "source": [
        "## [Пасхалки Python](https://tproger.ru/devnull/python-easter-eggs/)"
      ]
    },
    {
      "cell_type": "markdown",
      "metadata": {
        "id": "4A8BarHImJlG"
      },
      "source": [
        "### 1. Hello World"
      ]
    },
    {
      "cell_type": "code",
      "execution_count": null,
      "metadata": {
        "id": "jHBquGasmAf5"
      },
      "outputs": [],
      "source": [
        "import __hello__\n"
      ]
    },
    {
      "cell_type": "markdown",
      "metadata": {
        "id": "B8O0VGgWp6f5"
      },
      "source": [
        "![hello world](images/hello_world.jpg)\n"
      ]
    },
    {
      "cell_type": "markdown",
      "metadata": {
        "id": "mYXc4ggPnJ2O"
      },
      "source": [
        "### 2. Классика"
      ]
    },
    {
      "cell_type": "code",
      "execution_count": null,
      "metadata": {
        "id": "TzG8_4ltmCyG"
      },
      "outputs": [],
      "source": [
        "import this\n"
      ]
    },
    {
      "cell_type": "markdown",
      "metadata": {
        "id": "18fz7S9UnNvA"
      },
      "source": [
        "### 3. Простой жизненный урок"
      ]
    },
    {
      "cell_type": "code",
      "execution_count": null,
      "metadata": {
        "id": "miWN-8qSmXYC"
      },
      "outputs": [],
      "source": [
        "import this\n",
        "love = this\n",
        "this is love\n"
      ]
    },
    {
      "cell_type": "code",
      "execution_count": null,
      "metadata": {
        "id": "NW2ZTZmEnV54"
      },
      "outputs": [],
      "source": [
        "love is True\n"
      ]
    },
    {
      "cell_type": "code",
      "execution_count": null,
      "metadata": {
        "id": "BK4n0dzanZTK"
      },
      "outputs": [],
      "source": [
        "love is False\n"
      ]
    },
    {
      "cell_type": "code",
      "execution_count": null,
      "metadata": {
        "id": "1Y6V-EIFnaMH"
      },
      "outputs": [],
      "source": [
        "love is not True or False\n"
      ]
    },
    {
      "cell_type": "code",
      "execution_count": null,
      "metadata": {
        "id": "siSqJBozncQb"
      },
      "outputs": [],
      "source": [
        "love is not True or False\n",
        "love is love  # FML\n"
      ]
    },
    {
      "cell_type": "markdown",
      "metadata": {
        "id": "zDaMb2zbngZs"
      },
      "source": [
        "### 4. Скобок в языке не будет никогда"
      ]
    },
    {
      "cell_type": "code",
      "execution_count": null,
      "metadata": {
        "id": "j1iJYStrninf"
      },
      "outputs": [],
      "source": [
        "from __future__ import braces\n",
        "# braces - фигурные скобки\n",
        "# not a chance - ни за что\n"
      ]
    },
    {
      "cell_type": "markdown",
      "metadata": {
        "id": "zuiif1uQqMH_"
      },
      "source": [
        "![meme braces](images/meme-braces.png)\n"
      ]
    },
    {
      "cell_type": "markdown",
      "metadata": {},
      "source": [
        "## [Полезные примемы и хитрости Python](https://tproger.ru/translations/an-a-z-of-python-tricks/)\n"
      ]
    },
    {
      "cell_type": "markdown",
      "metadata": {
        "id": "-m4fAO_UVqS8"
      },
      "source": [
        "### 1. all и any"
      ]
    },
    {
      "cell_type": "code",
      "execution_count": null,
      "metadata": {
        "id": "SP3rIj2dVptH"
      },
      "outputs": [],
      "source": [
        "x = [True, True, False]\n",
        "if any(x):\n",
        "    print(\"Как минимум один True\")\n",
        "\n",
        "if all(x):\n",
        "    print(\"Ни одного False\")\n",
        "\n",
        "if any(x) and not all(x):\n",
        "    print(\"Как минимум один True и один False\")\n"
      ]
    },
    {
      "cell_type": "markdown",
      "metadata": {},
      "source": [
        "### 2. collections"
      ]
    },
    {
      "cell_type": "markdown",
      "metadata": {
        "id": "3wexovAJWY_x"
      },
      "source": [
        "Модуль Python `collections` имеет еще один замечательный наследуемый класс dict под названием `OrderedDict`. Как подразумевается в его названии, этот словарь отслеживает порядок ключей после их добавления. Если вы создадите обычный `dict`, вы заметите, что данные в нем неупорядоченные!\n",
        "\n",
        "Каждый раз, когда вы выводите этот код, порядок может быть разный. Иногда бывают ситуации, когда вам нужно выполнить цикл над ключами в вашем словаре в определенном порядке."
      ]
    },
    {
      "cell_type": "code",
      "execution_count": null,
      "metadata": {
        "id": "DcQq3E5vWrrd"
      },
      "outputs": [],
      "source": [
        "from collections import OrderedDict, Counter\n",
        "\n",
        "# Запоминает порядок добавления ключей\n",
        "x = OrderedDict(a=1, b=2, c=3)\n",
        "\n",
        "# Считает частоту каждого символа\n",
        "y = Counter(\"Hello World!\")\n",
        "\n",
        "print(x)\n",
        "print(y)\n"
      ]
    },
    {
      "cell_type": "markdown",
      "metadata": {},
      "source": [
        "### 3. emoji"
      ]
    },
    {
      "cell_type": "markdown",
      "metadata": {
        "id": "wmC6wp6hXkbT"
      },
      "source": [
        "Зачем? Делать красивый вывод!"
      ]
    },
    {
      "cell_type": "code",
      "execution_count": null,
      "metadata": {},
      "outputs": [],
      "source": [
        "!pip install emoji"
      ]
    },
    {
      "cell_type": "code",
      "execution_count": null,
      "metadata": {
        "id": "yTzHwckZXfiT"
      },
      "outputs": [],
      "source": [
        "from emoji import emojize\n",
        "\n",
        "print(emojize(\":thumbs_up:\"))\n"
      ]
    },
    {
      "cell_type": "markdown",
      "metadata": {},
      "source": [
        "### 4. inspect\n"
      ]
    },
    {
      "cell_type": "markdown",
      "metadata": {
        "id": "807GHxqlYBjg"
      },
      "source": [
        "Модуль inspect пригодится для понимания того, что происходит за кулисами в Python. Вы даже можете вызывать его методы на них самих!\n",
        "\n",
        "Ниже используется метод inspect.getsource() для вывода его собственного исходного кода. Также используется метод inspect.getmodule() для вывода модуля, в котором его определили.\n",
        "\n",
        "Последняя команда выводит номер строки, на которой она сама находится:"
      ]
    },
    {
      "cell_type": "code",
      "execution_count": null,
      "metadata": {
        "id": "zGzMf9plYM3A"
      },
      "outputs": [],
      "source": [
        "import inspect\n",
        "\n",
        "print(inspect.getsource(inspect.getsource))\n",
        "print(inspect.getmodule(inspect.getmodule))\n",
        "print(inspect.currentframe().f_lineno)\n"
      ]
    },
    {
      "cell_type": "markdown",
      "metadata": {},
      "source": [
        "### 5. Генераторы списков\n"
      ]
    },
    {
      "cell_type": "markdown",
      "metadata": {
        "id": "6jRCSi2TYWln"
      },
      "source": [
        "Ещё одна классная особенность Python, дающая возможность быстро создавать списки. Такие выражения позволяют легко писать чистый код, который читается почти как естественный язык:"
      ]
    },
    {
      "cell_type": "code",
      "execution_count": null,
      "metadata": {
        "id": "_0BPMRbhYxYA"
      },
      "outputs": [],
      "source": [
        "numbers = [1, 2, 3, 4, 5, 6, 7]\n",
        "print(numbers)\n",
        "evens = [x for x in numbers if x % 2 == 0]\n",
        "print(evens)\n",
        "odds = [y for y in numbers if y not in evens]\n",
        "print(odds)\n",
        "\n",
        "# создание колоды карт при помощи генератора списков\n",
        "# масти\n",
        "suits = \"HDCS\"\n",
        "# ранги\n",
        "ranks = \"23456789TJQKA\"\n",
        "# генерируем колоду\n",
        "deck = [r+s for r in ranks for s in suits]\n",
        "\n",
        "print(len(suits)*len(ranks))\n",
        "print(len(deck))\n",
        "print(deck)\n"
      ]
    },
    {
      "cell_type": "markdown",
      "metadata": {},
      "source": [
        "### 6. Генераторы словарей и множеств"
      ]
    },
    {
      "cell_type": "markdown",
      "metadata": {
        "id": "y8KqXzkbjZNw"
      },
      "source": [
        "Вы, конечно, пользовались генераторами списков. Но знаете ли вы о генераторах множеств и словарей?"
      ]
    },
    {
      "cell_type": "code",
      "execution_count": null,
      "metadata": {
        "id": "tMK-7LYvjgwO"
      },
      "outputs": [],
      "source": [
        "S = {i**2 for i in range(10)}\n",
        "D = {i: i**2 for i in range(10)}\n",
        "print(S)\n",
        "print(D)\n"
      ]
    },
    {
      "cell_type": "markdown",
      "metadata": {},
      "source": [
        "### 7. [map](http://pythonicway.com/python-functinal-programming)\n"
      ]
    },
    {
      "cell_type": "markdown",
      "metadata": {
        "id": "OuTGCWvPaKft"
      },
      "source": [
        "У Python есть хорошая встроенная поддержка функционального программирования. Одной из самых полезных возможностей является функция map(), особенно в сочетании с лямбда-функциями:"
      ]
    },
    {
      "cell_type": "code",
      "execution_count": null,
      "metadata": {
        "id": "5czfiKaUaQf7"
      },
      "outputs": [],
      "source": [
        "x = [1, 2, 3]\n",
        "y = map(lambda z: z + 1, x)\n",
        "\n",
        "# выводит [2, 3, 4]\n",
        "print(type(y))\n",
        "print(list(y))\n"
      ]
    },
    {
      "cell_type": "markdown",
      "metadata": {
        "id": "vxK4InlLadaX"
      },
      "source": [
        "Здесь map() применяет простую лямбда-функцию на каждом элементе x и возвращает объект map, который можно преобразовать в какой-нибудь итерируемый объект вроде списка или кортежа.\n",
        "\n",
        "Еще один пример: вы прочитали из файла список чисел, изначально все эти числа имеют строковый тип данных, чтобы работать с ними - нужно превратить их в целое число:"
      ]
    },
    {
      "cell_type": "code",
      "execution_count": null,
      "metadata": {
        "id": "7lEbVHika8xW"
      },
      "outputs": [],
      "source": [
        "old_list = ['1', '2', '3', '4', '5', '6', '7']\n",
        "\n",
        "new_list = []\n",
        "for item in old_list:\n",
        "    new_list.append(int(item))\n",
        "\n",
        "print(new_list)\n"
      ]
    },
    {
      "cell_type": "markdown",
      "metadata": {
        "id": "70-3z4QpbAaY"
      },
      "source": [
        "Тот же эффект мы можем получить, применив функцию map:"
      ]
    },
    {
      "cell_type": "code",
      "execution_count": null,
      "metadata": {
        "id": "gox-mx6MbBQk"
      },
      "outputs": [],
      "source": [
        "old_list = ['1', '2', '3', '4', '5', '6', '7']\n",
        "new_list = list(map(int, old_list))\n",
        "print(new_list)\n"
      ]
    },
    {
      "cell_type": "markdown",
      "metadata": {},
      "source": [
        "### 8. pprint"
      ]
    },
    {
      "cell_type": "markdown",
      "metadata": {
        "id": "QmNngmQHbqUa"
      },
      "source": [
        "Стандартная функция Python `print()` делает своё дело. Но если попытаться вывести какой-нибудь большой вложенный объект, результат будет выглядеть не очень приятно.\n",
        "\n",
        "Здесь на помощь приходит модуль из стандартной библиотеки `pprint` (pretty print). С его помощью можно выводить объекты со сложной структурой в читабельном виде.\n",
        "\n",
        "Мастхэв для любого Python-разработчика, работающего с нестандартными структурами данных:"
      ]
    },
    {
      "cell_type": "code",
      "execution_count": null,
      "metadata": {},
      "outputs": [],
      "source": [
        "!pip install requests"
      ]
    },
    {
      "cell_type": "code",
      "execution_count": null,
      "metadata": {
        "id": "ZXuW4dOvbzx-"
      },
      "outputs": [],
      "source": [
        "import requests\n",
        "import pprint\n",
        "\n",
        "url = 'https://randomuser.me/api/?results=1'\n",
        "users = requests.get(url).json()\n",
        "\n",
        "pprint.pprint(users)\n"
      ]
    },
    {
      "cell_type": "markdown",
      "metadata": {},
      "source": [
        "### 9. [Аннотации типов](https://devpractice.ru/python-lesson-18-annotations/)"
      ]
    },
    {
      "cell_type": "markdown",
      "metadata": {
        "id": "ExLBhLlkcI-Q"
      },
      "source": [
        "Python — динамически типизированный язык. Вам не нужно указывать тип данных при определении переменных, функций, классов и т.д.\n",
        "\n",
        "Это позволяет ускорить процесс разработки. Однако мало что раздражает так сильно, как ошибка времени выполнения, возникшая из-за простого несовпадения типа.\n",
        "\n",
        "С версии Python 3.5 при определении функции можно добавлять аннотации типов:"
      ]
    },
    {
      "cell_type": "code",
      "execution_count": null,
      "metadata": {
        "id": "3dM96NfacH61"
      },
      "outputs": [],
      "source": [
        "def add_two(x: int) -> int:\n",
        "    return x + 2\n"
      ]
    },
    {
      "cell_type": "code",
      "execution_count": null,
      "metadata": {
        "id": "ukxknKgxchU2"
      },
      "outputs": [],
      "source": [
        "add_two.__annotations__\n"
      ]
    },
    {
      "cell_type": "markdown",
      "metadata": {},
      "source": [
        "### 10. UUID\n"
      ]
    },
    {
      "cell_type": "markdown",
      "metadata": {
        "id": "peEKzcoJdpCD"
      },
      "source": [
        "Стандартный модуль uuid — быстрый и простой способ сгенерировать [UUID](https://ru.wikipedia.org/wiki/UUID) (universally unique identifier, глобально уникальный идентификатор).\n",
        "\n",
        "Так мы создаём случайное 128-битное число, которое почти наверняка будет уникальным.\n",
        "\n",
        "Существует более `2¹²²` возможных UUID. Это более `5 ундециллионов` или `5,000,000,000,000,000,000,000,000,000,000,000,000`.\n",
        "\n",
        "Вероятность нахождения дубликатов в заданном наборе крайне мала. Даже при наличии триллиона UUID вероятность того, что среди них есть дубликат, гораздо меньше, чем один к миллиарду.\n",
        "\n",
        "[UUID vs GUID vs UDID](https://gist.github.com/Duraiamuthan/9989619)"
      ]
    },
    {
      "cell_type": "code",
      "execution_count": null,
      "metadata": {
        "id": "qbmC7CV6d0Ps"
      },
      "outputs": [],
      "source": [
        "import uuid\n",
        "\n",
        "user_id = uuid.uuid4()\n",
        "print(user_id)\n"
      ]
    },
    {
      "cell_type": "markdown",
      "metadata": {},
      "source": [
        "### 11. zip\n"
      ]
    },
    {
      "cell_type": "markdown",
      "metadata": {
        "id": "_DP4NI60ekVy"
      },
      "source": [
        "Напоследок ещё одна клёвая штука. Когда-нибудь возникала необходимость создать словарь из двух списков?\n",
        "\n",
        "Встроенная функция `zip()` принимает несколько итерируемых объектов и возвращает последовательность  кортежей. Каждый кортеж группирует элементы объектов по их индексу.\n",
        "\n",
        "Можно провести операцию, обратную `zip()`, с помощью `zip(*)`."
      ]
    },
    {
      "cell_type": "code",
      "execution_count": null,
      "metadata": {
        "id": "52g92a49eWOn"
      },
      "outputs": [],
      "source": [
        "keys = ['a', 'b', 'c']\n",
        "vals = [1, 2, 3]\n",
        "dict(zip(keys, vals))\n"
      ]
    },
    {
      "cell_type": "markdown",
      "metadata": {},
      "source": [
        "### 12. [Объединение списков без цикла](https://proglib.io/p/python-tricks/) "
      ]
    },
    {
      "cell_type": "markdown",
      "metadata": {
        "id": "mEIdipk1ffFX"
      },
      "source": [
        "Как бы вы решили задачу объединения списков разной длины без обхода элементов цикла? Вот как это можно сделать с помощью стандартной функции sum:"
      ]
    },
    {
      "cell_type": "code",
      "execution_count": null,
      "metadata": {
        "id": "2wBp0-E8fkSL"
      },
      "outputs": [],
      "source": [
        "L = [[1, 2, 3], [4, 5], [6], [7, 8, 9]]\n",
        "print(sum(L, []))\n"
      ]
    },
    {
      "cell_type": "markdown",
      "metadata": {
        "id": "mU9AjZPBfpeF"
      },
      "source": [
        "Пусть и менее краткий, но более эффективный способ – применение модуля `itertools`:"
      ]
    },
    {
      "cell_type": "code",
      "execution_count": null,
      "metadata": {
        "id": "TqK9d-oNfm3X"
      },
      "outputs": [],
      "source": [
        "import itertools\n",
        "\n",
        "L = [[1, 2, 3], [4, 5], [6], [7, 8, 9]]\n",
        "print(list(itertools.chain.from_iterable(L)))\n"
      ]
    },
    {
      "cell_type": "markdown",
      "metadata": {},
      "source": [
        "### 13. Обмен значениями при помощи кортежей"
      ]
    },
    {
      "cell_type": "markdown",
      "metadata": {
        "id": "fpnXaZjIgAo9"
      },
      "source": [
        "Один из популярных трюков в Python – обмен значениями без создания временной переменной. Способ применим для любого числа переменных."
      ]
    },
    {
      "cell_type": "code",
      "execution_count": null,
      "metadata": {
        "id": "wnTFsu0WgDom"
      },
      "outputs": [],
      "source": [
        "a, b = 1, 2\n",
        "print(a, b)\n",
        "a, b = b, a\n",
        "print(a, b)\n"
      ]
    },
    {
      "cell_type": "code",
      "execution_count": null,
      "metadata": {
        "id": "EPxMFbt2gRFY"
      },
      "outputs": [],
      "source": [
        "for ((a, b), c) in [((1, 2), 3), ((4, 5), 6)]:\n",
        "    print(a, b, c)\n"
      ]
    },
    {
      "cell_type": "markdown",
      "metadata": {},
      "source": [
        "### 14. Объединение строк\n"
      ]
    },
    {
      "cell_type": "markdown",
      "metadata": {
        "id": "qLWzOpwOgWVT"
      },
      "source": [
        "В программном коде нередко приходится сталкиваться с конкатенацией строк при помощи знака сложения. Создание строки из списка нескольких подстрок удобнее осуществить при помощи строкового метода `join`:"
      ]
    },
    {
      "cell_type": "code",
      "execution_count": null,
      "metadata": {
        "id": "ZhzM9VbrgbeT"
      },
      "outputs": [],
      "source": [
        "a = [\"Python\", \"-\", \"прекрасный\", \"язык.\"]\n",
        "print(\" \".join(a))\n"
      ]
    },
    {
      "cell_type": "markdown",
      "metadata": {
        "id": "vYRFviqXgemq"
      },
      "source": [
        "Пример посложнее с методом join – конвертирование списка чисел в строку:"
      ]
    },
    {
      "cell_type": "code",
      "execution_count": null,
      "metadata": {
        "id": "CIAq6KrMgftv"
      },
      "outputs": [],
      "source": [
        "numbers = [1, 2, 3, 4, 5]\n",
        "print(', '.join(map(str, numbers)))\n"
      ]
    },
    {
      "cell_type": "markdown",
      "metadata": {},
      "source": [
        "### 15. Транспонирование двумерного массива данных"
      ]
    },
    {
      "cell_type": "markdown",
      "metadata": {
        "id": "25MvOe-Qh02V"
      },
      "source": [
        "Чтобы поменять местами строки и столбцы матрицы, созданной с помощью встроенных типов данных, воспользуйтесь функцией zip:"
      ]
    },
    {
      "cell_type": "code",
      "execution_count": null,
      "metadata": {
        "id": "eIP_Oh_3iK-z"
      },
      "outputs": [],
      "source": [
        "original = [('a', 'b'), ('c', 'd'), ('e', 'f')]\n",
        "transposed = zip(*original)\n",
        "print(list(transposed))\n"
      ]
    },
    {
      "cell_type": "markdown",
      "metadata": {},
      "source": [
        "Если вы регулярно сталкиваетесь с подобными задачами, вместо таких трюков в Python принято использовать библиотеку [NumPy](https://numpy.org/)."
      ]
    },
    {
      "cell_type": "markdown",
      "metadata": {},
      "source": [
        "### 16. Удаление дубликатов в списке"
      ]
    },
    {
      "cell_type": "markdown",
      "metadata": {
        "id": "YV_gsT1diTIL"
      },
      "source": [
        "Среди регулярно используемых трюков в Python – преобразование списка во множество и обратно в список для удаления повторяющихся элементов списка:"
      ]
    },
    {
      "cell_type": "code",
      "execution_count": null,
      "metadata": {
        "id": "34sWTyl1iiIf"
      },
      "outputs": [],
      "source": [
        "items = [2, 2, 3, 3, 1]\n",
        "print(list(set(items)))\n"
      ]
    },
    {
      "cell_type": "markdown",
      "metadata": {},
      "source": [
        "### 17. Нумерованные списки"
      ]
    },
    {
      "cell_type": "markdown",
      "metadata": {
        "id": "wNLH47PsjBYS"
      },
      "source": [
        "Задача нумерации элементов последовательности настолько распространена, что в Python есть соответствующая встроенная функция `enumerate`:"
      ]
    },
    {
      "cell_type": "code",
      "execution_count": null,
      "metadata": {
        "id": "pFP5pQDmjG3g"
      },
      "outputs": [],
      "source": [
        "for i, item in enumerate(['a', 'b', 'c']):\n",
        "    print(i, item)\n"
      ]
    },
    {
      "cell_type": "markdown",
      "metadata": {},
      "source": [
        "## [Работа с модулями (import и from)](https://pythonworld.ru/osnovy/rabota-s-modulyami-sozdanie-podklyuchenie-instrukciyami-import-i-from.html)"
      ]
    },
    {
      "cell_type": "markdown",
      "metadata": {},
      "source": [
        "Модулем в Python называется любой файл с программой. Каждая программа может импортировать модуль и получить доступ к его классам, функциям и объектам. Нужно заметить, что модуль может быть написан не только на Python, а например, на C или C++.\n"
      ]
    },
    {
      "cell_type": "markdown",
      "metadata": {},
      "source": [
        "### Подключение модуля из стандартной библиотеки\n"
      ]
    },
    {
      "cell_type": "markdown",
      "metadata": {
        "id": "3oQIAQnB0jkn"
      },
      "source": [
        "Подключить модуль можно с помощью инструкции `import`. К примеру, подключим модуль os для получения текущей директории:"
      ]
    },
    {
      "cell_type": "code",
      "execution_count": null,
      "metadata": {
        "id": "DGV-wK5t1otR"
      },
      "outputs": [],
      "source": [
        "import os\n",
        "os.getcwd()\n"
      ]
    },
    {
      "cell_type": "markdown",
      "metadata": {
        "id": "RyOqkakd3xZp"
      },
      "source": [
        "После ключевого слова `import` указывается название модуля. Одной инструкцией можно подключить несколько модулей, хотя этого не рекомендуется делать, так как это снижает читаемость кода."
      ]
    },
    {
      "cell_type": "code",
      "execution_count": null,
      "metadata": {
        "id": "lNeCdftS307h"
      },
      "outputs": [],
      "source": [
        "import time\n",
        "import random\n",
        "import math\n",
        "\n",
        "print(time.time())\n",
        "print(random.random())\n",
        "print(math.pi)\n"
      ]
    },
    {
      "cell_type": "markdown",
      "metadata": {},
      "source": [
        "### Использование псевдонимов\n"
      ]
    },
    {
      "cell_type": "markdown",
      "metadata": {
        "id": "3kLHcVFv4JYq"
      },
      "source": [
        "Если название модуля слишком длинное, или оно вам не нравится по каким-то другим причинам, то для него можно создать псевдоним, с помощью ключевого слова `as`."
      ]
    },
    {
      "cell_type": "code",
      "execution_count": null,
      "metadata": {
        "id": "tgbqLXem42HK"
      },
      "outputs": [],
      "source": [
        "import math as m\n",
        "\n",
        "m.e\n"
      ]
    },
    {
      "cell_type": "markdown",
      "metadata": {},
      "source": [
        "### Инструкция from"
      ]
    },
    {
      "cell_type": "markdown",
      "metadata": {
        "id": "xtGnv0vS45-F"
      },
      "source": [
        "Подключить определенные атрибуты модуля можно с помощью инструкции from. Она имеет несколько форматов:\n",
        "\n",
        "```python\n",
        "from <Название модуля> import <Атрибут 1> [ as <Псевдоним 1> ], [<Атрибут 2> [ as <Псевдоним 2> ] ...]\n",
        "from <Название модуля> import *\n",
        "```\n",
        "\n",
        "Первый формат позволяет подключить из модуля только указанные вами атрибуты. Для длинных имен также можно назначить псевдоним, указав его после ключевого слова as."
      ]
    },
    {
      "cell_type": "code",
      "execution_count": null,
      "metadata": {
        "id": "Nj3SiYsZ5Gct"
      },
      "outputs": [],
      "source": [
        "print(dir(math))\n"
      ]
    },
    {
      "cell_type": "code",
      "execution_count": null,
      "metadata": {
        "id": "KBmloWBC5QDe"
      },
      "outputs": [],
      "source": [
        "from math import e as EulerNumber, cos as cs\n",
        "\n",
        "print(cs(EulerNumber))\n"
      ]
    },
    {
      "cell_type": "markdown",
      "metadata": {
        "id": "gE-Sk9aE5wEz"
      },
      "source": [
        "Импортируемые атрибуты можно разместить на нескольких строках, если их много, для лучшей читаемости кода:\n",
        "\n",
        "```python\n",
        ">>> from math import (sin, cos,\n",
        "...           tan, atan)\n",
        "```"
      ]
    },
    {
      "cell_type": "markdown",
      "metadata": {
        "id": "h5EddGIo56EX"
      },
      "source": [
        "Второй формат инструкции from позволяет подключить все (точнее, почти все) переменные из модуля. Для примера импортируем все атрибуты из модуля `sys`:"
      ]
    },
    {
      "cell_type": "code",
      "execution_count": null,
      "metadata": {
        "id": "lSpnXkUC58zu"
      },
      "outputs": [],
      "source": [
        "import sys\n",
        "from sys import *\n",
        "\n",
        "print(version)\n",
        "print(version_info)\n",
        "\n",
        "print(sys.version_info)\n",
        "print(version_info)\n"
      ]
    },
    {
      "cell_type": "markdown",
      "metadata": {
        "id": "mAuls3Wa7CEA"
      },
      "source": [
        "Следует заметить, что не все атрибуты будут импортированы. Если в модуле определена переменная `__all__` (список атрибутов, которые могут быть подключены), то будут подключены только атрибуты из этого списка. Если переменная `__all__` не определена, то будут подключены все атрибуты, не начинающиеся с нижнего подчёркивания. Кроме того, необходимо учитывать, что импортирование всех атрибутов из модуля может нарушить пространство имен главной программы, так как переменные, имеющие одинаковые имена, будут перезаписаны."
      ]
    },
    {
      "cell_type": "markdown",
      "metadata": {},
      "source": [
        "### Создание своего модуля на Python"
      ]
    },
    {
      "cell_type": "markdown",
      "metadata": {
        "id": "bLoAKbsx7b21"
      },
      "source": [
        "Смотри на сайте [Pythonworld](https://pythonworld.ru/osnovy/rabota-s-modulyami-sozdanie-podklyuchenie-instrukciyami-import-i-from.html)."
      ]
    },
    {
      "cell_type": "markdown",
      "metadata": {},
      "source": [
        "## [Assert. Что это?](https://www.w3schools.com/python/ref_keyword_assert.asp)\n"
      ]
    },
    {
      "cell_type": "markdown",
      "metadata": {
        "id": "36o6i0LQbQX1"
      },
      "source": [
        "Используется для проверки истинности указанного утверждения.\n",
        "\n",
        "Инструкция `assert` позволяет производить проверки истинности утверждений, что может быть использовано в отладочных целях.\n",
        "Если проверка не прошла, возбуждается исключение `AssertionError`."
      ]
    },
    {
      "cell_type": "code",
      "execution_count": null,
      "metadata": {
        "id": "VC7JxXCvbn3H"
      },
      "outputs": [],
      "source": [
        "passed = False\n",
        "assert passed, 'Not passed'  # Поднимается исключение.\n"
      ]
    },
    {
      "cell_type": "code",
      "execution_count": null,
      "metadata": {
        "id": "D8tvnrCZbwIH"
      },
      "outputs": [],
      "source": [
        "x = \"hello\"\n",
        "\n",
        "# Если условие возращает True, тогда ничего не происходит:\n",
        "assert x == \"hello\"\n",
        "\n",
        "# Если условие возращает False, то тогда вызывается AssertionError:\n",
        "assert x == \"goodbye\"\n"
      ]
    },
    {
      "cell_type": "markdown",
      "metadata": {
        "id": "J2ySVRcedAYS"
      },
      "source": [
        "![meme-assert](images/meme-assert.jpg)\n"
      ]
    },
    {
      "cell_type": "code",
      "execution_count": null,
      "metadata": {
        "id": "RpYLiJjNcs-d"
      },
      "outputs": [],
      "source": [
        "# Test methods\n",
        "class SuperTest:\n",
        "    @staticmethod\n",
        "    def assert_equals(a, b):\n",
        "        assert (a == b), \"a is not equal b\"\n"
      ]
    },
    {
      "cell_type": "code",
      "execution_count": null,
      "metadata": {
        "id": "eNysfyb0dTx3"
      },
      "outputs": [],
      "source": [
        "SuperTest.assert_equals(1, 2)\n"
      ]
    }
  ],
  "metadata": {
    "colab": {
      "collapsed_sections": [],
      "name": "Совершенствование в охоте на Питона",
      "provenance": []
    },
    "kernelspec": {
      "display_name": "Python 3.11.0 64-bit",
      "language": "python",
      "name": "python3"
    },
    "language_info": {
      "codemirror_mode": {
        "name": "ipython",
        "version": 3
      },
      "file_extension": ".py",
      "mimetype": "text/x-python",
      "name": "python",
      "nbconvert_exporter": "python",
      "pygments_lexer": "ipython3",
      "version": "3.11.0"
    },
    "vscode": {
      "interpreter": {
        "hash": "333d2c9757a75282c9d4867cccb346dd97fbdd6438562bec117fa31e687fe23c"
      }
    }
  },
  "nbformat": 4,
  "nbformat_minor": 0
}
