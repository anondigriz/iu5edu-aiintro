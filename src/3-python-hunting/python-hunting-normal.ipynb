{
  "cells": [
    {
      "cell_type": "markdown",
      "metadata": {},
      "source": [
        "# Охота на Питона\n"
      ]
    },
    {
      "cell_type": "markdown",
      "metadata": {},
      "source": [
        "[![Open in Colab](https://colab.research.google.com/assets/colab-badge.svg)](https://colab.research.google.com/github/anondigriz/iu5edu-aiintro/blob/main/src/3-python-hunting/python-hunting-normal.ipynb)\n"
      ]
    },
    {
      "cell_type": "markdown",
      "metadata": {
        "id": "mUksiczOZ6vf"
      },
      "source": [
        "## Умеренный уровень\n"
      ]
    },
    {
      "cell_type": "markdown",
      "metadata": {},
      "source": [
        "Для тех, кто не уверен в своих силах, может сразу решать задачи [pythontutor](https://pythontutor.ru/).  Либо смотреть курсы типа [Курс: Д. П. Кириенко. Программирование на языке Python (школа 179 г. Москвы)](https://informatics.msk.ru/course/view.php?id=156).\n"
      ]
    },
    {
      "cell_type": "markdown",
      "metadata": {},
      "source": [
        "Вот этот блок не забываем запустить:"
      ]
    },
    {
      "cell_type": "code",
      "execution_count": null,
      "metadata": {
        "id": "lndUHkHPeI8U"
      },
      "outputs": [],
      "source": [
        "# Test methods\n",
        "class test:\n",
        "    def assert_equals(a, b):\n",
        "        assert (a == b)\n"
      ]
    },
    {
      "cell_type": "markdown",
      "metadata": {},
      "source": [
        "### Важное уведомление"
      ]
    },
    {
      "cell_type": "markdown",
      "metadata": {},
      "source": [
        "Данные задания направлены на самостоятельное решение слушателя и разбор решения вместе с преподавателем.\n",
        "\n",
        "Они не являются уникальными и основываются на материале с [pythontutor](https://pythontutor.ru/). Поэтому на них можно найти легко ответы (ссылка на которые внизу блокнота).\n",
        "\n",
        "Рекомендуется сначала САМИМ попытаться решить предложенные задачи. В случае возникновения проблем, вместе с преподавателем разобрать и обсудить данные задачи."
      ]
    },
    {
      "cell_type": "markdown",
      "metadata": {},
      "source": [
        "### [1. Электронные часы](https://pythontutor.ru/lessons/inout_and_arithmetic_operations/problems/electronic_watch/)\n"
      ]
    },
    {
      "attachments": {},
      "cell_type": "markdown",
      "metadata": {
        "id": "mtqCqh9EuWLk"
      },
      "source": [
        "Дано число `n`. С начала суток прошло `n` минут. Определите, сколько часов и минут будут показывать электронные часы в этот момент. Программа должна вывести два числа: количество часов (от `0` до `23`) и количество минут (от `0` до `59`). Учтите, что число `n` может быть больше, чем количество минут в сутках.\n",
        "\n",
        "Подсказка: \n",
        "* [Строки. Функции и методы строк](https://pythonworld.ru/tipy-dannyx-v-python/stroki-funkcii-i-metody-strok.html)"
      ]
    },
    {
      "cell_type": "code",
      "execution_count": null,
      "metadata": {
        "id": "BzOSCXbpwE9F"
      },
      "outputs": [],
      "source": [
        "def electronic_clock(num):\n",
        "    pass  # Code here\n"
      ]
    },
    {
      "cell_type": "code",
      "execution_count": null,
      "metadata": {
        "id": "Vg4HVP9ZwUDY"
      },
      "outputs": [],
      "source": [
        "# Testing\n",
        "test.assert_equals(electronic_clock(150), '2 30')\n",
        "test.assert_equals(electronic_clock(1441), '0 1')\n",
        "test.assert_equals(electronic_clock(444), '7 24')\n",
        "test.assert_equals(electronic_clock(1439), '23 59')\n",
        "test.assert_equals(electronic_clock(9876), '20 36')\n"
      ]
    },
    {
      "cell_type": "markdown",
      "metadata": {},
      "source": [
        "### [2. Hello, Harry!](https://pythontutor.ru/lessons/inout_and_arithmetic_operations/problems/hello_harry/)\n"
      ]
    },
    {
      "cell_type": "markdown",
      "metadata": {
        "id": "1BBmfkwgyxIY"
      },
      "source": [
        "Напишите программу, которая приветствует пользователя, выводя слово `Hello`, введенное имя и знаки препинания по образцу:\n",
        "\n",
        "```\n",
        "Harry     ->     Hello, Harry!\n",
        "```"
      ]
    },
    {
      "cell_type": "code",
      "execution_count": null,
      "metadata": {
        "id": "hPrS6a-IzFba"
      },
      "outputs": [],
      "source": [
        "def hello(name):\n",
        "    pass  # Code here\n"
      ]
    },
    {
      "cell_type": "code",
      "execution_count": null,
      "metadata": {
        "id": "Yw0rXlM9pAe1"
      },
      "outputs": [],
      "source": [
        "hello(input())\n"
      ]
    },
    {
      "cell_type": "code",
      "execution_count": null,
      "metadata": {
        "id": "A9Ptcd6IzKTQ"
      },
      "outputs": [],
      "source": [
        "# Testing\n",
        "test.assert_equals(hello(\"Harry\"), \"Hello, Harry!\")\n",
        "test.assert_equals(hello(\"Mr. Potter\"), \"Hello, Mr. Potter!\")\n",
        "test.assert_equals(hello(\"Lord Voldemort\"), \"Hello, Lord Voldemort!\")\n"
      ]
    },
    {
      "cell_type": "markdown",
      "metadata": {},
      "source": [
        "### [3. Знак числа](https://pythontutor.ru/lessons/ifelse/problems/signum/)\n"
      ]
    },
    {
      "cell_type": "markdown",
      "metadata": {
        "id": "2N1sh1Go2FNJ"
      },
      "source": [
        "В математике функция `sign(x)` (знак числа) определена так:\n",
        "\n",
        "```\n",
        "sign(x) = 1, если x > 0,\n",
        "sign(x) = -1, если x < 0,\n",
        "sign(x) = 0, если x = 0.\n",
        "```\n",
        "\n",
        "Для данного числа `x` выведите значение `sign(x)`. Эту задачу желательно решить с использованием каскадных инструкций `if... elif... else`."
      ]
    },
    {
      "cell_type": "code",
      "execution_count": null,
      "metadata": {
        "id": "RIW5d5n_2Xm0"
      },
      "outputs": [],
      "source": [
        "def sign(num):\n",
        "    pass  # Code here\n"
      ]
    },
    {
      "cell_type": "code",
      "execution_count": null,
      "metadata": {
        "id": "NRSlrfUX2aOe"
      },
      "outputs": [],
      "source": [
        "# Testing\n",
        "test.assert_equals(sign(1534), 1)\n",
        "test.assert_equals(sign(-42), -1)\n",
        "test.assert_equals(sign(0), 0)\n",
        "test.assert_equals(sign(179), 1)\n"
      ]
    },
    {
      "cell_type": "markdown",
      "metadata": {},
      "source": [
        "### [4. Минимум из трех чисел](https://pythontutor.ru/lessons/ifelse/problems/minimum3/)\n"
      ]
    },
    {
      "cell_type": "markdown",
      "metadata": {
        "id": "Rr3okkrN3DzW"
      },
      "source": [
        "Даны три целых числа. Выведите значение наименьшего из них.\n",
        "\n",
        "[Что такое `*args` и `**kwargs` в Python?](https://habr.com/ru/company/ruvds/blog/482464/)\n"
      ]
    },
    {
      "cell_type": "code",
      "execution_count": null,
      "metadata": {
        "id": "SJUdH3Ay3J3f"
      },
      "outputs": [],
      "source": [
        "def min3(*args):\n",
        "    pass  # Code here\n"
      ]
    },
    {
      "cell_type": "code",
      "execution_count": null,
      "metadata": {
        "id": "Q-4UxtPS3Rap"
      },
      "outputs": [],
      "source": [
        "# Testing\n",
        "test.assert_equals(min3(5, 3, 7), 3)\n",
        "test.assert_equals(min3(10, 30, 4), 4)\n",
        "test.assert_equals(min3(-5, -3, -3), -5)\n",
        "test.assert_equals(min3(50, 80, 25), 25)\n"
      ]
    },
    {
      "cell_type": "markdown",
      "metadata": {},
      "source": [
        "### [5. Суммирование](https://www.codewars.com/kata/55d24f55d7dd296eb9000030/train/python)\n"
      ]
    },
    {
      "cell_type": "markdown",
      "metadata": {
        "id": "FN8BmesAaAw3"
      },
      "source": [
        "Напишите программу, которая суммирует числа от 1 до num. Число всегда будет положительным целым числом больше 0.\n",
        "\n",
        "Например:\n",
        "\n",
        "```python\n",
        "summation(2) -> 3\n",
        "# 1 + 2\n",
        "```\n",
        "\n",
        "```python\n",
        "summation(8) -> 36\n",
        "# 1 + 2 + 3 + 4 + 5 + 6 + 7 + 8\n",
        "```\n",
        "\n",
        "Подсказка:\n",
        "* `sum` и `range`"
      ]
    },
    {
      "cell_type": "code",
      "execution_count": null,
      "metadata": {
        "id": "7DPuZS4kZ_ju"
      },
      "outputs": [],
      "source": [
        "def summation(num):\n",
        "    pass  # Code here\n"
      ]
    },
    {
      "cell_type": "code",
      "execution_count": null,
      "metadata": {
        "id": "q5fYlv8QcOqc"
      },
      "outputs": [],
      "source": [
        "# Testing\n",
        "test.assert_equals(summation(1), 1)\n",
        "test.assert_equals(summation(8), 36)\n",
        "test.assert_equals(summation(22), 253)\n",
        "test.assert_equals(summation(100), 5050)\n",
        "test.assert_equals(summation(213), 22791)\n"
      ]
    },
    {
      "cell_type": "markdown",
      "metadata": {},
      "source": [
        "### [6. Лесенка](https://pythontutor.ru/lessons/for_loop/problems/ladder/)\n"
      ]
    },
    {
      "cell_type": "markdown",
      "metadata": {
        "id": "xrfwkzpC4p24"
      },
      "source": [
        "По данному натуральному n ≤ 9 выведите лесенку из n ступенек, i-я ступенька состоит из чисел от 1 до i без пробелов.\n",
        "\n",
        "Пример\n",
        "\n",
        "| Входные данные | Правильный ответ |\n",
        "|---|---|\n",
        "| 3 | 1 <br/> 12 <br/> 123 |\n",
        "| 4 | 1 <br/> 12 <br/> 123 <br/> 1234 |\n",
        "| 6 | 1 <br/> 12 <br/> 123 <br/> 1234 <br/> 12345 <br/> 123456 |"
      ]
    },
    {
      "cell_type": "code",
      "execution_count": null,
      "metadata": {
        "id": "sdGJVd1v42aA"
      },
      "outputs": [],
      "source": [
        "def stairs(num):\n",
        "    pass  # Code here\n"
      ]
    },
    {
      "cell_type": "markdown",
      "metadata": {},
      "source": [
        "### [7. Количество слов](https://pythontutor.ru/lessons/str/problems/num_words/)\n"
      ]
    },
    {
      "cell_type": "markdown",
      "metadata": {
        "id": "21LuHisZ6M_a"
      },
      "source": [
        "Дана строка, состоящая из слов, разделенных пробелами. Определите, сколько в ней слов. Используйте для решения задачи метод `count`."
      ]
    },
    {
      "cell_type": "code",
      "execution_count": null,
      "metadata": {
        "id": "Ly4zaQqk6Weu"
      },
      "outputs": [],
      "source": [
        "def count_words(sentence):\n",
        "    pass  # Code here\n"
      ]
    },
    {
      "cell_type": "code",
      "execution_count": null,
      "metadata": {
        "id": "hVg9y9KL8Gzy"
      },
      "outputs": [],
      "source": [
        "# Testing\n",
        "test.assert_equals(count_words(\"Hello world\"), 2)\n",
        "test.assert_equals(count_words(\n",
        "    \"In the hole in the ground there lived a hobbit\"), 10)\n",
        "test.assert_equals(count_words(\"One two three four five\"), 5)\n"
      ]
    },
    {
      "cell_type": "markdown",
      "metadata": {},
      "source": [
        "### [8. Замена подстроки](https://pythontutor.ru/lessons/str/problems/replace_substring/)\n"
      ]
    },
    {
      "cell_type": "markdown",
      "metadata": {
        "id": "kLErTNDD8jru"
      },
      "source": [
        "Дана строка. Замените в этой строке все цифры `1` на слово `one`."
      ]
    },
    {
      "cell_type": "code",
      "execution_count": null,
      "metadata": {
        "id": "kuEKb8k38-dG"
      },
      "outputs": [],
      "source": [
        "def replacement_1(sentence):\n",
        "    pass  # Code here\n"
      ]
    },
    {
      "cell_type": "code",
      "execution_count": null,
      "metadata": {
        "id": "z4JnKbu19D5k"
      },
      "outputs": [],
      "source": [
        "# Testing\n",
        "test.assert_equals(replacement_1(\"1+1=2\"), \"one+one=2\")\n",
        "test.assert_equals(replacement_1(\"1111111111111111111111111111111111\"),\n",
        "                   \"oneoneoneoneoneoneoneoneoneoneoneoneoneoneoneoneoneoneoneoneoneoneoneoneoneoneoneoneoneoneoneoneoneone\")\n",
        "test.assert_equals(replacement_1(\"1213141516171819101\"),\n",
        "                   \"one2one3one4one5one6one7one8one9one0one\")\n"
      ]
    },
    {
      "cell_type": "markdown",
      "metadata": {},
      "source": [
        "### [9. Четные индексы](https://pythontutor.ru/lessons/lists/problems/even_indices/)"
      ]
    },
    {
      "cell_type": "markdown",
      "metadata": {
        "id": "34TGiF5W977x"
      },
      "source": [
        "Выведите все элементы списка с четными индексами (то есть `A[0]`, `A[2]`, `A[4]`, ...)."
      ]
    },
    {
      "cell_type": "code",
      "execution_count": null,
      "metadata": {
        "id": "W2a_HGiPB-0K"
      },
      "outputs": [],
      "source": [
        "def even_indexes(list_nums):\n",
        "    pass  # Code here\n"
      ]
    },
    {
      "cell_type": "code",
      "execution_count": null,
      "metadata": {
        "id": "JGSlneJVCWbK"
      },
      "outputs": [],
      "source": [
        "# Testing\n",
        "test.assert_equals(even_indexes([1, 2, 3, 4, 5]), [1, 3, 5])\n",
        "test.assert_equals(even_indexes([4, 5, 3, 4, 2, 3]), [4, 3, 2])\n",
        "test.assert_equals(even_indexes(\n",
        "    [40, 64, -80, -98, -68, 56, 85, 87, -68, -78]), [40, -80, -68, 85, -68])\n"
      ]
    },
    {
      "cell_type": "markdown",
      "metadata": {},
      "source": [
        "### [10. Переставить min и max](https://pythontutor.ru/lessons/lists/problems/swap_min_and_max/)\n"
      ]
    },
    {
      "cell_type": "markdown",
      "metadata": {
        "id": "rrv0cWkdC5Ko"
      },
      "source": [
        "В списке все элементы различны. Поменяйте местами минимальный и максимальный элемент этого списка."
      ]
    },
    {
      "cell_type": "code",
      "execution_count": null,
      "metadata": {
        "id": "M9Rj6wEqC4qi"
      },
      "outputs": [],
      "source": [
        "def change_min_max(list_nums):\n",
        "    pass  # Code here\n"
      ]
    },
    {
      "cell_type": "code",
      "execution_count": null,
      "metadata": {
        "id": "tpWewsi5DTna"
      },
      "outputs": [],
      "source": [
        "# Testing\n",
        "test.assert_equals(change_min_max([3, 4, 5, 2, 1]), [3, 4, 1, 2, 5])\n",
        "test.assert_equals(change_min_max(\n",
        "    [2147483647, -2147483648]), [-2147483648, 2147483647])\n",
        "test.assert_equals(change_min_max([10, 9, 8, 7, 6, 5, 4, 3, 2, 1]), [\n",
        "                   1, 9, 8, 7, 6, 5, 4, 3, 2, 10])\n"
      ]
    },
    {
      "cell_type": "markdown",
      "metadata": {},
      "source": [
        "### Ответы\n"
      ]
    },
    {
      "cell_type": "markdown",
      "metadata": {
        "id": "BK0mvqfs0mrY"
      },
      "source": [
        "Ответы на задачи [тут](https://pyanswer.site/pythontutor-answers-to-tasks/) или [тут](https://github.com/tmsv/pythontutor_task_solutions)."
      ]
    }
  ],
  "metadata": {
    "colab": {
      "collapsed_sections": [],
      "name": "Охота на Питона (Умеренный уровень)",
      "provenance": []
    },
    "kernelspec": {
      "display_name": "Python 3.11.0 64-bit",
      "language": "python",
      "name": "python3"
    },
    "language_info": {
      "name": "python",
      "version": "3.11.0"
    },
    "vscode": {
      "interpreter": {
        "hash": "333d2c9757a75282c9d4867cccb346dd97fbdd6438562bec117fa31e687fe23c"
      }
    }
  },
  "nbformat": 4,
  "nbformat_minor": 0
}
