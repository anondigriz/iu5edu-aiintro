{
  "cells": [
    {
      "cell_type": "markdown",
      "metadata": {},
      "source": [
        "# Охота на Питона\n"
      ]
    },
    {
      "cell_type": "markdown",
      "metadata": {},
      "source": [
        "## Решение сложного уровня"
      ]
    },
    {
      "cell_type": "markdown",
      "metadata": {},
      "source": [
        "Вот этот блок не забываем запустить:"
      ]
    },
    {
      "cell_type": "code",
      "execution_count": null,
      "metadata": {
        "id": "CGDJCyYcFml9"
      },
      "outputs": [],
      "source": [
        "# Test methods\n",
        "class test:\n",
        "    def assert_equals(a, b):\n",
        "        assert (a == b)\n"
      ]
    },
    {
      "cell_type": "markdown",
      "metadata": {},
      "source": [
        "### Важное уведомление"
      ]
    },
    {
      "cell_type": "markdown",
      "metadata": {},
      "source": [
        "Данные задания направлены на самостоятельное решение слушателя и разбор решения вместе с преподавателем.\n",
        "\n",
        "Они не являются уникальными и основываются на материале с [codewars](https://www.codewars.com). На codewars вы можете легко найти на предложенные задачи ответы (ссылка на каждую задачу в заголовке).\n",
        "\n",
        "Рекомендуется сначала САМИМ попытаться решить предложенные задачи. В случае возникновения проблем, вместе с преподавателем разобрать и обсудить данные задачи."
      ]
    },
    {
      "cell_type": "markdown",
      "metadata": {},
      "source": [
        "### [1. Сумма нечетных чисел](https://www.codewars.com/kata/55fd2d567d94ac3bc9000064/train/python)\n"
      ]
    },
    {
      "cell_type": "markdown",
      "metadata": {
        "id": "KzY6lj6sF9oY"
      },
      "source": [
        "Дан треугольник последовательных нечетных чисел:\n",
        "\n",
        "```\n",
        "             1\n",
        "          3     5\n",
        "       7     9    11\n",
        "   13    15    17    19\n",
        "21    23    25    27    29\n",
        "...\n",
        "```\n",
        "\n",
        "На вход задается индекс `i` строки (нумерация строк начинается с `0`). Вычислите сумму строки `i` этого треугольника. Например:\n",
        "\n",
        "```python\n",
        "row_sum_odd_numbers(1); # 1\n",
        "row_sum_odd_numbers(2); # 3 + 5 = 8\n",
        "```"
      ]
    },
    {
      "cell_type": "code",
      "execution_count": null,
      "metadata": {
        "id": "sMVWd9kDPyVT"
      },
      "outputs": [],
      "source": [
        "def row_sum_odd_numbers(n):\n",
        "    return n ** 3\n"
      ]
    },
    {
      "cell_type": "code",
      "execution_count": null,
      "metadata": {
        "id": "Fl4nanpzPyw9"
      },
      "outputs": [],
      "source": [
        "# Testing\n",
        "test.assert_equals(row_sum_odd_numbers(1), 1)\n",
        "test.assert_equals(row_sum_odd_numbers(2), 8)\n",
        "test.assert_equals(row_sum_odd_numbers(13), 2197)\n",
        "test.assert_equals(row_sum_odd_numbers(19), 6859)\n",
        "test.assert_equals(row_sum_odd_numbers(41), 68921)\n"
      ]
    },
    {
      "cell_type": "markdown",
      "metadata": {},
      "source": [
        "### [2. Кому это нравится?](https://www.codewars.com/kata/who-likes-it/train/python)"
      ]
    },
    {
      "cell_type": "markdown",
      "metadata": {
        "id": "NP25ZPoAQQMi"
      },
      "source": [
        "\n",
        "Вы, вероятно, знаете систему \"нравится\" из Facebook и других социальных сетей. Людям может \"нравится\" сообщения в блоге, фотографии или другие объекты. Мы хотим создать текст, который должен отображаться рядом с таким объектом.\n",
        "\n",
        "Реализуем функцию `likes:: [String] - > String`, которая должна принимать во вход массив, содержащий имена людей, которым нравится элемент. Он должен возвращать отображаемый текст, как показано в примерах:\n",
        "\n",
        "```python\n",
        "likes [] // must be \"no one likes this\"\n",
        "likes [\"Peter\"] // must be \"Peter likes this\"\n",
        "likes [\"Jacob\", \"Alex\"] // must be \"Jacob and Alex like this\"\n",
        "likes [\"Max\", \"John\", \"Mark\"] // must be \"Max, John and Mark like this\"\n",
        "likes [\"Alex\", \"Jacob\", \"Mark\", \"Max\"] // must be \"Alex, Jacob and 2 others like this\"\n",
        "```\n",
        "\n",
        "Для 4 или более имен, число в `and 2 others` просто увеличивается."
      ]
    },
    {
      "cell_type": "code",
      "execution_count": null,
      "metadata": {
        "id": "NQp1RbmcQzQT"
      },
      "outputs": [],
      "source": [
        "def likes(names):\n",
        "    if len(names) == 0:\n",
        "        return \"no one likes this\"\n",
        "    elif len(names) == 1:\n",
        "        return \"%s likes this\" % names[0]\n",
        "    elif len(names) == 2:\n",
        "        return \"%s and %s like this\" % (names[0], names[1])\n",
        "    elif len(names) == 3:\n",
        "        return \"%s, %s and %s like this\" % (names[0], names[1], names[2])\n",
        "    else:\n",
        "        return \"%s, %s and %s others like this\" % (names[0], names[1], len(names)-2)\n"
      ]
    },
    {
      "cell_type": "code",
      "execution_count": null,
      "metadata": {
        "id": "IjWixu2LRJD5"
      },
      "outputs": [],
      "source": [
        "test.assert_equals(likes([]), 'no one likes this')\n",
        "test.assert_equals(likes(['Peter']), 'Peter likes this')\n",
        "test.assert_equals(likes(['Jacob', 'Alex']), 'Jacob and Alex like this')\n",
        "test.assert_equals(likes(['Max', 'John', 'Mark']),\n",
        "                   'Max, John and Mark like this')\n",
        "test.assert_equals(likes(['Alex', 'Jacob', 'Mark', 'Max']),\n",
        "                   'Alex, Jacob and 2 others like this')\n"
      ]
    },
    {
      "cell_type": "markdown",
      "metadata": {},
      "source": [
        "###  [3. Поиск уникального числа](https://www.codewars.com/kata/find-the-unique-number-1/train/python)"
      ]
    },
    {
      "cell_type": "markdown",
      "metadata": {
        "id": "Dsh3B0MWRkxg"
      },
      "source": [
        "Существует массив с некоторыми числами. Все числа равны, кроме одного. Попробуйте найти его!\n",
        "\n",
        "```python\n",
        "find_uniq([ 1, 1, 1, 2, 1, 1 ]) == 2\n",
        "find_uniq([ 0, 0, 0.55, 0, 0 ]) == 0.55\n",
        "```\n",
        "\n",
        "Гарантируется, что массив содержит более 3 чисел."
      ]
    },
    {
      "cell_type": "code",
      "execution_count": null,
      "metadata": {
        "id": "ro8u1tMXR5yl"
      },
      "outputs": [],
      "source": [
        "def find_uniq(arr):\n",
        "    a, b = set(arr)\n",
        "    return a if arr.count(a) == 1 else b\n"
      ]
    },
    {
      "cell_type": "code",
      "execution_count": null,
      "metadata": {
        "id": "jnpIOAb2R6O5"
      },
      "outputs": [],
      "source": [
        "test.assert_equals(find_uniq([1, 1, 1, 2, 1, 1]), 2)\n",
        "test.assert_equals(find_uniq([0, 0, 0.55, 0, 0]), 0.55)\n",
        "test.assert_equals(find_uniq([3, 10, 3, 3, 3]), 10)\n"
      ]
    },
    {
      "cell_type": "markdown",
      "metadata": {},
      "source": [
        "### [4. Найти Выброс Четности](https://www.codewars.com/kata/5526fc09a1bbd946250002dc/train/python)\n"
      ]
    },
    {
      "cell_type": "markdown",
      "metadata": {
        "id": "8EwxphSFScyV"
      },
      "source": [
        "Вам дается массив (который будет иметь длину не менее 3, но может быть очень большим), содержащий целые числа. Массив либо полностью состоит из нечетных целых чисел, либо полностью состоит из четных целых чисел, за исключением одного целого числа N. Напишите метод, который принимает массив в качестве аргумента и возвращает этот \"выброс\" N.\n",
        "\n",
        "Пример:\n",
        "\n",
        "```python\n",
        "[2, 4, 0, 100, 4, 11, 2602, 36]\n",
        "Should return: 11 (the only odd number)\n",
        "\n",
        "[160, 3, 1719, 19, 11, 13, -21]\n",
        "Should return: 160 (the only even number)\n",
        "```"
      ]
    },
    {
      "cell_type": "code",
      "execution_count": null,
      "metadata": {
        "id": "03Ps2jJnSsZW"
      },
      "outputs": [],
      "source": [
        "def find_outlier(integers):\n",
        "    listEven = []\n",
        "    listOdd = []\n",
        "    for n in integers:\n",
        "        if n % 2 == 0:\n",
        "            listEven.append(n)\n",
        "        else:\n",
        "            listOdd.append(n)\n",
        "\n",
        "    if len(listEven) == 1:\n",
        "        return listEven[0]\n",
        "    else:\n",
        "        return listOdd[0]\n"
      ]
    },
    {
      "cell_type": "code",
      "execution_count": null,
      "metadata": {
        "id": "Bv3tHfNpSyLL"
      },
      "outputs": [],
      "source": [
        "test.assert_equals(find_outlier([2, 4, 6, 8, 10, 3]), 3)\n",
        "test.assert_equals(find_outlier([2, 4, 0, 100, 4, 11, 2602, 36]), 11)\n",
        "test.assert_equals(find_outlier([160, 3, 1719, 19, 11, 13, -21]), 160)\n"
      ]
    },
    {
      "cell_type": "markdown",
      "metadata": {},
      "source": [
        "### [5. Дележка шоколада](https://www.codewars.com/kata/534ea96ebb17181947000ada/train/python)\n"
      ]
    },
    {
      "cell_type": "markdown",
      "metadata": {
        "id": "2csqYgFJTFM5"
      },
      "source": [
        "Ваша задача состоит в том, чтобы разбить плитку шоколада заданного размера `n x m` на маленькие квадраты. Каждый квадрат имеет размер `1 x 1` и нерушимый. Реализуйте функцию, которая будет возвращать минимальное количество необходимых операций \"разделить\".\n",
        "\n",
        "Например, если вам дают плитку шоколада размером `2 х 1`, вы можете разделить ее на отдельные квадраты всего за один операцию \"делить\", но для размера `3 х 1` вы должны сделать две таких операции.\n",
        "\n",
        "Если входные данные недействительны, вы должны вернуть 0 (как и в случае отсутствия операций \"делить\", если у нас нет достаточно шоколада для разделения). Вход всегда будет неотрицательным целым числом."
      ]
    },
    {
      "cell_type": "code",
      "execution_count": null,
      "metadata": {
        "id": "X8pqlnkXTNes"
      },
      "outputs": [],
      "source": [
        "def breakChocolate(n, m):\n",
        "    if n > 0 and m > 0:\n",
        "        return m*n - 1\n",
        "    else:\n",
        "        return 0\n"
      ]
    },
    {
      "cell_type": "code",
      "execution_count": null,
      "metadata": {
        "id": "5ihFutvYTOMq"
      },
      "outputs": [],
      "source": [
        "test.assert_equals(breakChocolate(5, 5), 24)\n",
        "test.assert_equals(breakChocolate(1, 1), 0)\n"
      ]
    },
    {
      "cell_type": "markdown",
      "metadata": {},
      "source": [
        "### [6. Удобочитаемый формат времени](https://www.codewars.com/kata/human-readable-time/train/python)\n"
      ]
    },
    {
      "cell_type": "markdown",
      "metadata": {
        "id": "PUBFOXj3T-bG"
      },
      "source": [
        "Напишите функцию, которая принимает неотрицательное целое число (секунды) в качестве входных данных и возвращает время в удобочитаемом формате (`HH:MM:SS`)\n",
        "\n",
        "```python\n",
        "HH = hours, padded to 2 digits, range: 00 - 99\n",
        "MM = minutes, padded to 2 digits, range: 00 - 59\n",
        "SS = seconds, padded to 2 digits, range: 00 - 59\n",
        "```\n",
        "\n",
        "Максимальное время никогда не превышает 359999 (99: 59:59)"
      ]
    },
    {
      "cell_type": "code",
      "execution_count": null,
      "metadata": {
        "id": "7-5U3euAUa-7"
      },
      "outputs": [],
      "source": [
        "def make_readable(seconds):\n",
        "    h = seconds/60**2\n",
        "    m = (seconds % 60**2)/60\n",
        "    s = (seconds % 60**2 % 60)\n",
        "    return \"%02d:%02d:%02d\" % (h, m, s)\n"
      ]
    },
    {
      "cell_type": "code",
      "execution_count": null,
      "metadata": {},
      "outputs": [],
      "source": [
        "make_readable(0)"
      ]
    },
    {
      "cell_type": "code",
      "execution_count": null,
      "metadata": {
        "id": "ZOYhN_l2Ubd9"
      },
      "outputs": [],
      "source": [
        "test.assert_equals(make_readable(0), \"00:00:00\")\n",
        "test.assert_equals(make_readable(5), \"00:00:05\")\n",
        "test.assert_equals(make_readable(60), \"00:01:00\")\n",
        "test.assert_equals(make_readable(86399), \"23:59:59\")\n",
        "test.assert_equals(make_readable(359999), \"99:59:59\")\n"
      ]
    },
    {
      "cell_type": "markdown",
      "metadata": {},
      "source": [
        "### [7. Квадрат из квадратов](https://www.codewars.com/kata/54c27a33fb7da0db0100040e/train/python)\n"
      ]
    },
    {
      "cell_type": "markdown",
      "metadata": {
        "id": "Tk7VjfjyWk7f"
      },
      "source": [
        "Всем нравятся строительные блоки. Вам особенно нравятся строительные блоки, которые являются квадратами. И что вам еще больше нравится, это расположить их в квадрате квадратных строительных блоков!\n",
        "\n",
        "Однако, иногда, вы не можете собрать их в квадрат. Вместо этого вы получите обычный прямоугольник! \"Those blasted things\"! Если бы у вас только был способ узнать, не напрасно ли вы сейчас работаете ... подождите! Вот так! Вам просто нужно проверить, является ли ваше количество строительных блоков идеальным квадратом.\n",
        "\n",
        "**Задача**\n",
        "\n",
        "Учитывая целое число, определите, является ли оно квадратным числом:\n",
        "\n",
        "> В математике **квадратное число** или **совершенный квадрат** - это целое число, которое является квадратом целого числа; другими словами, это произведение некоторого целого числа с самим собой.\n",
        "\n",
        "Примеры\n",
        "\n",
        "```python\n",
        "isSquare(-1) returns  false\n",
        "isSquare(0) returns   true\n",
        "isSquare(3) returns   false\n",
        "isSquare(4) returns   true\n",
        "isSquare(25) returns  true  \n",
        "isSquare(26) returns  false\n",
        "```"
      ]
    },
    {
      "cell_type": "code",
      "execution_count": null,
      "metadata": {
        "id": "m5FwZLxHXgdj"
      },
      "outputs": [],
      "source": [
        "def is_square(n):\n",
        "    return n >= 0 and (n**0.5) % 1 == 0\n"
      ]
    },
    {
      "cell_type": "code",
      "execution_count": null,
      "metadata": {
        "id": "tLVHunXJXiWc"
      },
      "outputs": [],
      "source": [
        "# -1: Negative numbers cannot be square numbers\n",
        "test.assert_equals(is_square(-1), False)\n",
        "test.assert_equals(is_square(0), True)   # 0 is a square number\n",
        "test.assert_equals(is_square(3), False)  # 3 is not a square number\n",
        "test.assert_equals(is_square(4), True)   # 4 is a square number\n",
        "test.assert_equals(is_square(25), True)   # 25 is a square number\n",
        "test.assert_equals(is_square(26), False)  # 26 is not a square number\n"
      ]
    },
    {
      "cell_type": "markdown",
      "metadata": {},
      "source": [
        "### [8. Самый высокий балл слова в предложении](https://www.codewars.com/kata/57eb8fcdf670e99d9b000272/train/python)\n"
      ]
    },
    {
      "cell_type": "markdown",
      "metadata": {
        "id": "W8FvHzTYYMFJ"
      },
      "source": [
        "Учитывая строку слов, вам нужно найти самое высокое слово оценки.\n",
        "\n",
        "Каждая буква слова набирает очки в соответствии с его положением в алфавите: `a = 1, b = 2,c = 3 и т.д`.\n",
        "\n",
        "Вы должны вернуть самый высокий балл слово в виде строки.\n",
        "\n",
        "Если два слова имеют одинаковую оценку, верните слово, которое появляется раньше в исходной строке.\n",
        "\n",
        "Все буквы будут строчными, и все входные данные будут действительны."
      ]
    },
    {
      "cell_type": "code",
      "execution_count": null,
      "metadata": {
        "id": "fPi8nfSqZQZw"
      },
      "outputs": [],
      "source": [
        "def high(x):\n",
        "    scoreboard = [\"a\", \"b\", \"c\", \"d\", \"e\", \"f\", \"g\", \"h\", \"i\", \"j\", \"k\", \"l\",\n",
        "                  \"m\", \"n\", \"o\", \"p\", \"q\", \"r\", \"s\", \"t\", \"u\", \"v\", \"w\", \"x\", \"y\", \"z\"]\n",
        "    heck = x.split()\n",
        "    score = 0\n",
        "    score_final = 0\n",
        "    big_word = []\n",
        "    for each in heck:\n",
        "        for every in each:\n",
        "            if every in scoreboard:\n",
        "                score = score + scoreboard.index(every) + 1\n",
        "        if score > score_final:\n",
        "            score_final = score\n",
        "            big_word = each\n",
        "            score = 0\n",
        "        else:\n",
        "            score = 0\n",
        "    return big_word\n"
      ]
    },
    {
      "cell_type": "code",
      "execution_count": null,
      "metadata": {
        "id": "q6GU9_KQZRBC"
      },
      "outputs": [],
      "source": [
        "test.assert_equals(high('man i need a taxi up to ubud'), 'taxi')\n",
        "test.assert_equals(high('what time are we climbing up the volcano'), 'volcano')\n",
        "test.assert_equals(high('take me to semynak'), 'semynak')\n"
      ]
    },
    {
      "cell_type": "markdown",
      "metadata": {},
      "source": [
        "### [9. Перевернуть слова](https://www.codewars.com/kata/5259b20d6021e9e14c0010d4/train/python)\n"
      ]
    },
    {
      "cell_type": "markdown",
      "metadata": {
        "id": "gb5PpvcxZz8d"
      },
      "source": [
        "Завершите функцию, которая принимает строковый параметр и переворачивает каждое слово в строке. Все пробелы в строке должны быть сохранены.\n",
        "\n",
        "Пример\n",
        "```python\n",
        "\"This is an example!\" ==> \"sihT si na !elpmaxe\"\n",
        "\"double  spaces\"      ==> \"elbuod  secaps\"\n",
        "```"
      ]
    },
    {
      "cell_type": "code",
      "execution_count": null,
      "metadata": {
        "id": "pAkgX2QZb-yZ"
      },
      "outputs": [],
      "source": [
        "def reverse_words(text):\n",
        "    newStr = []\n",
        "    for i in text.split(' '):\n",
        "        newStr.append(i[::-1])\n",
        "    return ' '.join(newStr)\n"
      ]
    },
    {
      "cell_type": "code",
      "execution_count": null,
      "metadata": {
        "id": "F_1QhA4Ab_2b"
      },
      "outputs": [],
      "source": [
        "test.assert_equals(reverse_words('The quick brown fox jumps over the lazy dog.'),\n",
        "                   'ehT kciuq nworb xof spmuj revo eht yzal .god')\n",
        "test.assert_equals(reverse_words('apple'), 'elppa')\n",
        "test.assert_equals(reverse_words('a b c d'), 'a b c d')\n",
        "test.assert_equals(reverse_words('double  spaced  words'),\n",
        "                   'elbuod  decaps  sdrow')\n"
      ]
    }
  ],
  "metadata": {
    "colab": {
      "collapsed_sections": [],
      "name": "Занятие 22 янв 2022 (Прак Hard tasks).ipynb",
      "provenance": []
    },
    "kernelspec": {
      "display_name": "Python 3.10.7 64-bit",
      "language": "python",
      "name": "python3"
    },
    "language_info": {
      "codemirror_mode": {
        "name": "ipython",
        "version": 3
      },
      "file_extension": ".py",
      "mimetype": "text/x-python",
      "name": "python",
      "nbconvert_exporter": "python",
      "pygments_lexer": "ipython3",
      "version": "3.10.7"
    },
    "vscode": {
      "interpreter": {
        "hash": "b0fa6594d8f4cbf19f97940f81e996739fb7646882a419484c72d19e05852a7e"
      }
    }
  },
  "nbformat": 4,
  "nbformat_minor": 0
}
