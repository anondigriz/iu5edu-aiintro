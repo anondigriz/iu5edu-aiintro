{
  "cells": [
    {
      "cell_type": "markdown",
      "metadata": {
        "id": "7mJWnROM6gRb"
      },
      "source": [
        "# Подготовка к охоте на Питона"
      ]
    },
    {
      "cell_type": "markdown",
      "metadata": {},
      "source": [
        "## Для чего нужен язык программирования Python"
      ]
    },
    {
      "cell_type": "markdown",
      "metadata": {},
      "source": [
        "Python ([ˈpaɪθən], [рус.](http://lurkmore.to/Python) Питон, ласк. Пихон, хейт. Питухон, Пыхтон, Пистон, Пуфон, Гвидопых) — высокоуровневый язык программирования общего назначения, ориентированный на повышение производительности разработчика и читаемости кода. Синтаксис ядра Python минималистичен. В то же время стандартная библиотека включает большой объём полезных функций.\n",
        "\n",
        "Python поддерживает структурное, объектно-ориентированное, функциональное, императивное и аспектно-ориентированное программирование.\n",
        "\n",
        "© [Википедия](https://ru.wikipedia.org/wiki/Python)"
      ]
    },
    {
      "cell_type": "markdown",
      "metadata": {
        "id": "NdKaSTh7zWI8"
      },
      "source": [
        "Это **интерпретируемый язык** — он не компилируется, то есть до запуска представляет из себя обычный текстовый файл. Программировать можно практически на всех платформах, язык хорошо спроектирован и логичен.\n",
        "\n",
        "Разработка на нем в разы быстрее, потому что приходится писать меньше кода, чем на Java, С и других языках, — он отлично подходит новичкам.\n",
        "\n",
        "© [Skillbox](https://skillbox.ru/media/code/dlya_chego_nuzhen_python/)"
      ]
    },
    {
      "cell_type": "markdown",
      "metadata": {},
      "source": [
        "## Для чего используется Python"
      ]
    },
    {
      "cell_type": "markdown",
      "metadata": {
        "id": "XXlJ5mdY09Cn"
      },
      "source": [
        "Материал заимстован с [Skillbox](https://skillbox.ru/media/code/dlya_chego_nuzhen_python/) ©."
      ]
    },
    {
      "cell_type": "markdown",
      "metadata": {},
      "source": [
        "\n",
        "### Веб-разработка"
      ]
    },
    {
      "cell_type": "markdown",
      "metadata": {
        "id": "noD3MlnGK_PE"
      },
      "source": [
        "\n",
        "Чаще всего Python используется в веб-разработке. Для работы с ним используются фреймворки: Pyramid, Pylons, TurboGears, Flask, CherryPy и — самый популярный — Django."
      ]
    },
    {
      "cell_type": "markdown",
      "metadata": {},
      "source": [
        "### Программы"
      ]
    },
    {
      "cell_type": "markdown",
      "metadata": {
        "id": "9iG2VFscLAvJ"
      },
      "source": [
        "Небольшой список того, что было разработано на Python:\n",
        "\n",
        "* **GIMP** — визуальный редактор в ОС Linux;\n",
        "* **Ubuntu Software Center** — центр приложений в ОС Ubuntu (один из дистрибутивов Linux);\n",
        "* **BitTorrent до 6 версии** (позже программу переписали на C++, но сети peer-to-peer все еще работают на Python) — менеджер торрент-закачек;\n",
        "* **Blender** — программа для создания 3D-графики."
      ]
    },
    {
      "cell_type": "markdown",
      "metadata": {},
      "source": [
        "### Мобильные приложения"
      ]
    },
    {
      "cell_type": "markdown",
      "metadata": {
        "id": "StqYlOIULC6o"
      },
      "source": [
        "Мобильная разработка на Python менее популярна. Для устройств на Android чаще пишут на Java, C#, C++ или Kotlin, а для iOS — на Swift или Objective-C. На Python обычно программируют серверную часть приложения. Например, клиент Instagram для iOS написан на Objective-C, а сервер — на Python."
      ]
    },
    {
      "cell_type": "markdown",
      "metadata": {},
      "source": [
        "### Игры"
      ]
    },
    {
      "cell_type": "markdown",
      "metadata": {
        "id": "v7VpgWaCLFhF"
      },
      "source": [
        "Многие компьютерные игры были полностью или частично написаны на Python. Существует заблуждение, что этот язык не подходит для серьезных проектов, но на самом деле он использовался в разработке таких хитов, как:\n",
        "\n",
        "* Battlefield 2;\n",
        "* World of Tanks;\n",
        "* Civilization IV;\n",
        "* EVE Online."
      ]
    },
    {
      "cell_type": "markdown",
      "metadata": {},
      "source": [
        "### Встроенные системы (embedded systems)"
      ]
    },
    {
      "cell_type": "markdown",
      "metadata": {},
      "source": [
        "### Создание скриптов"
      ]
    },
    {
      "cell_type": "markdown",
      "metadata": {},
      "source": [
        "## Популярные направления применения"
      ]
    },
    {
      "cell_type": "markdown",
      "metadata": {
        "id": "ltK430UA1Ea_"
      },
      "source": [
        "Можно выделить 3 самых популярных направления применения Python:\n",
        "\n",
        "* веб-разработка;\n",
        "* data science: машинное обучение, анализ данных и визуализация;\n",
        "* автоматизация процессов.\n",
        "\n",
        "[TOП-50 Python-проектов в 2018: самые востребованные инструменты](https://proglib.io/p/50-python-projects/)\n"
      ]
    },
    {
      "cell_type": "markdown",
      "metadata": {},
      "source": [
        "## Недостатки языка Python"
      ]
    },
    {
      "cell_type": "markdown",
      "metadata": {
        "id": "zbjr1OIx3sCf"
      },
      "source": [
        "Несмотря на все достоинства, у языка есть и недостатки. Программы на нем считаются одними из самых медленных. Для сравнения: приложения для iOS на Swift работают в 8,7 раз быстрее, чем приложения на Python.\n",
        "\n",
        "У Python существует реализация PyPy, которая по скорости близка к Java, но в ней есть не все возможности оригинального языка. Python не подходит для задач, требующих большого объема памяти, — их лучше решать вставками на C или C++.\n",
        "\n",
        "Другим недостатком является сильная зависимость языка от системных библиотек, из-за чего затрудняется перенос на другие системы. Для этих целей существует инструмент Virtualenv, но и он с недостатками: избыточность полных методов изоляции, костыли, дублирование системных библиотек.\n",
        "\n",
        "© [Skillbox](https://skillbox.ru/media/code/dlya_chego_nuzhen_python/)"
      ]
    },
    {
      "cell_type": "markdown",
      "metadata": {},
      "source": [
        "## Синтаксис"
      ]
    },
    {
      "cell_type": "markdown",
      "metadata": {
        "id": "OQkHZcQuYfVh"
      },
      "source": [
        "[Читать](https://pythonworld.ru/osnovy/sintaksis-yazyka-python.html)"
      ]
    },
    {
      "cell_type": "markdown",
      "metadata": {},
      "source": [
        "### IDE"
      ]
    },
    {
      "cell_type": "markdown",
      "metadata": {
        "id": "VQhwL8_-tA_w"
      },
      "source": [
        "Профессиональные инструменты:\n",
        "* [Visual stuido и Visual studio code](https://visualstudio.microsoft.com/ru/)\n",
        "* [PyCharm](https://www.jetbrains.com/pycharm/)\n",
        "* [Anaconda](https://www.anaconda.com/)\n",
        "* [Atom](https://atom.io/)\n",
        "\n",
        "Запретная зона:\n",
        "* [Microsoft Word](https://www.youtube.com/watch?v=X34ZmkeZDos)\n",
        "* Notepad\n",
        "\n",
        "Черная магия:\n",
        "* Бумага А4\n",
        "* Бумага в клеточку\n",
        "* Бумага в линейку\n"
      ]
    },
    {
      "cell_type": "markdown",
      "metadata": {},
      "source": [
        "### Начало работы в Visual Studio Code"
      ]
    },
    {
      "cell_type": "markdown",
      "metadata": {
        "id": "64c1Ljin3318"
      },
      "source": [
        "Обучающий материал [здесь](https://code.visualstudio.com/docs/python/python-tutorial).\n",
        "\n",
        "Расширения для Visual Studio Code:\n",
        "* [Code Spell Checker](https://marketplace.visualstudio.com/items?itemName=streetsidesoftware.code-spell-checker)\n",
        "  * [Russian - Code Spell Checker](https://marketplace.visualstudio.com/items?itemName=streetsidesoftware.code-spell-checker-russian)\n",
        "  * [Jupyter](https://marketplace.visualstudio.com/items?itemName=ms-toolsai.jupyter)\n",
        "  * [Live Share](https://marketplace.visualstudio.com/items?itemName=MS-vsliveshare.vsliveshare)\n",
        "* [Python](https://marketplace.visualstudio.com/items?itemName=ms-python.python)\n",
        "  * [Pylance](https://marketplace.visualstudio.com/items?itemName=ms-python.vscode-pylance)\n",
        "* [Russian Language Pack for Visual Studio Code](https://marketplace.visualstudio.com/items?itemName=MS-CEINTL.vscode-language-pack-ru)\n",
        "* [Visual Studio IntelliCode](https://marketplace.visualstudio.com/items?itemName=VisualStudioExptTeam.vscodeintellicode)\n",
        "\n",
        "С использованием сред Python в VS Code можно ознакомиться [здесь](https://code.visualstudio.com/docs/python/environments)."
      ]
    },
    {
      "cell_type": "markdown",
      "metadata": {},
      "source": [
        "## Ввод и вывод данных"
      ]
    },
    {
      "cell_type": "markdown",
      "metadata": {
        "id": "z-v3E0VdgoOm"
      },
      "source": [
        "Для печати значений в Питоне есть функция `print()`. Внутри круглых скобок через запятую мы пишем то, что хотим вывести.\n",
        "\n",
        "Для ввода данных в программу мы используем функцию `input()`. Она считывает одну строку."
      ]
    },
    {
      "cell_type": "markdown",
      "metadata": {},
      "source": [
        "## Основные типы данных"
      ]
    },
    {
      "cell_type": "markdown",
      "metadata": {
        "id": "ZDnTme2IJfoN"
      },
      "source": [
        "Материал заимстован с [Tproger](https://tproger.ru/translations/python-data-types/) ©."
      ]
    },
    {
      "cell_type": "markdown",
      "metadata": {},
      "source": [
        "### [Числа](https://pythonworld.ru/tipy-dannyx-v-python/chisla-int-float-complex.html)\n"
      ]
    },
    {
      "cell_type": "markdown",
      "metadata": {
        "id": "gKFSTr90KycC"
      },
      "source": [
        "**Целые числа**, **числа с плавающей запятой** и **комплексные числа** относятся к группе чисел. В Python они представлены классами `int`, `float` и `complex`.\n",
        "\n",
        "Мы можем использовать функцию `type()`, чтобы узнать класс переменной или значения, и функцию `isinstance()` для проверки принадлежности объекта определённому классу:"
      ]
    },
    {
      "cell_type": "code",
      "execution_count": null,
      "metadata": {
        "id": "Ptpw23fQJyxy"
      },
      "outputs": [],
      "source": [
        "a = 5\n",
        "print(a, \"is of type\", type(a))\n",
        "a = 2.0\n",
        "print(a, \"is of type\", type(a))\n",
        "a = 1+2j\n",
        "print(a, \"is complex number?\", isinstance(1+2j, complex))\n"
      ]
    },
    {
      "cell_type": "markdown",
      "metadata": {
        "id": "OHmgKe0BKA_R"
      },
      "source": [
        "**Целые числа** могут быть любой длины, они ограничиваются лишь доступной памятью.\n",
        "\n",
        "**Числа с плавающей запятой** имеют ограниченную точность. Визуально разницу между целым числом и числом с плавающей запятой можно заметить в консоли по наличию точки: `1` — целое число, `1.0` — с плавающей запятой."
      ]
    },
    {
      "cell_type": "code",
      "execution_count": null,
      "metadata": {
        "id": "LOJJawGYKW0g"
      },
      "outputs": [],
      "source": [
        "a = 1234567890123456789\n",
        "b = 0.1234567890123456789\n",
        "print(a)\n",
        "print(b)\n"
      ]
    },
    {
      "cell_type": "markdown",
      "metadata": {},
      "source": [
        "### [Списки](https://pythonworld.ru/tipy-dannyx-v-python/spiski-list-funkcii-i-metody-spiskov.html)"
      ]
    },
    {
      "cell_type": "markdown",
      "metadata": {
        "id": "srqdwBdgKqpN"
      },
      "source": [
        "Список представляет собой упорядоченную последовательность элементов. Он очень гибкий и является одним из самых используемых типов в Python. Элементы списка не обязательно должны быть одного типа.\n",
        "\n",
        "> В Python индексация начинается с нуля!"
      ]
    },
    {
      "cell_type": "code",
      "execution_count": null,
      "metadata": {
        "id": "AlIbrSJdLeDp"
      },
      "outputs": [],
      "source": [
        "a = [5, 10, 15, 20, 25, 30, 35, 40]\n",
        "\n",
        "# Извлечение элемента (\"доступ по индексу\")\n",
        "print(\"a[2] =\", a[2])\n",
        "\n",
        "# Извлечение диапазона (\"извлечение среза\")\n",
        "print(\"a[0:3] =\", a[0:3])\n",
        "print(\"a[5:] =\", a[5:])\n",
        "\n",
        "a = [1, 2.2, 'python']\n",
        "\n",
        "print(\"a is \", type(a), \" a=\", a)\n"
      ]
    },
    {
      "cell_type": "markdown",
      "metadata": {
        "id": "5DvEo_3eMWV1"
      },
      "source": [
        "Списки являются изменяемым типом, т.е. значения его элементов можно изменить:"
      ]
    },
    {
      "cell_type": "code",
      "execution_count": null,
      "metadata": {
        "id": "AkHQAYslMVu-"
      },
      "outputs": [],
      "source": [
        "a = [1, 2, 3]\n",
        "a[2] += 1\n",
        "a[0] -= 1\n",
        "a.append(111)\n",
        "a\n"
      ]
    },
    {
      "cell_type": "markdown",
      "metadata": {},
      "source": [
        "### [Кортежи](https://pythonworld.ru/tipy-dannyx-v-python/kortezhi-tuple.html)"
      ]
    },
    {
      "cell_type": "markdown",
      "metadata": {
        "id": "a4KKtSkhNAEm"
      },
      "source": [
        "Так же как и список, **кортеж (tuple)** является упорядоченной последовательностью элементов. *Вся разница заключается в том, что кортежи неизменяемы.*\n",
        "\n",
        "Кортежи используются для защиты данных от перезаписи и обычно работают быстрее, чем списки, т.к. их нельзя изменять."
      ]
    },
    {
      "cell_type": "code",
      "execution_count": null,
      "metadata": {
        "id": "yznxLQbTO7nc"
      },
      "outputs": [],
      "source": [
        "a = (5, 'program', 1+3j)\n",
        "a\n"
      ]
    },
    {
      "cell_type": "code",
      "execution_count": null,
      "metadata": {
        "id": "KBSeTSxyPFc_"
      },
      "outputs": [],
      "source": [
        "# Извлечение элемента (\"доступ по индексу\")\n",
        "print(\"a[2] =\", a[2])\n",
        "\n",
        "# Извлечение диапазона (\"извлечение среза\")\n",
        "print(\"a[0:1] =\", a[0:1])\n",
        "print(\"a[1:] =\", a[1:])\n"
      ]
    },
    {
      "cell_type": "markdown",
      "metadata": {},
      "source": [
        "### Строки"
      ]
    },
    {
      "cell_type": "markdown",
      "metadata": {
        "id": "dQBVpDy1PTaQ"
      },
      "source": [
        "**Строка** представляет собой последовательность символов. Мы можем использовать одинарные или двойные кавычки для создания строки.  Многострочные строки можно обозначить тройными кавычками, `'''` или `\"\"\"`:"
      ]
    },
    {
      "cell_type": "code",
      "execution_count": null,
      "metadata": {
        "id": "wD0Al2tRPZUr"
      },
      "outputs": [],
      "source": [
        "s = \"Простая строка\"\n",
        "print(s)\n",
        "s = '''многострочная\n",
        "строка'''\n",
        "print(\"\\n\")\n",
        "print(s)\n"
      ]
    },
    {
      "cell_type": "markdown",
      "metadata": {
        "id": "EIlwDXhTPwg0"
      },
      "source": [
        "Как и в случае со списками и кортежами, мы можем использовать оператор `[]` и со строками. Стоит отметить, что строки в Python относятся к категории неизменяемых последовательностей, то есть все функции и методы могут лишь создавать новую строку."
      ]
    },
    {
      "cell_type": "code",
      "execution_count": null,
      "metadata": {
        "id": "zFvgYBq1Pvvj"
      },
      "outputs": [],
      "source": [
        "# Извлечение элемента (\"доступ по индексу\")\n",
        "print(\"s[2] =\", s[2])\n",
        "\n",
        "# Извлечение диапазона (\"извлечение среза\")\n",
        "print(\"s[0:1] =\", s[0:6])\n",
        "print(\"s[:-1] =\", s[:-1])\n"
      ]
    },
    {
      "cell_type": "markdown",
      "metadata": {},
      "source": [
        "### [Множества](https://pythonworld.ru/tipy-dannyx-v-python/mnozhestva-set-i-frozenset.html)"
      ]
    },
    {
      "cell_type": "markdown",
      "metadata": {
        "id": "-TEIc-U6Pusn"
      },
      "source": [
        "Множество является неупорядоченной уникализированной последовательностью. Объявляется множество с помощью элементов, разделённых запятой, внутри фигурных скобок:"
      ]
    },
    {
      "cell_type": "code",
      "execution_count": null,
      "metadata": {
        "id": "H-Rv182ISpuf"
      },
      "outputs": [],
      "source": [
        "a = {5, 2, 3, 1, 4}\n",
        "print(\"a =\", a)\n",
        "a = {1, 2, 3, 4, 5}\n",
        "print(type(a))\n"
      ]
    },
    {
      "cell_type": "markdown",
      "metadata": {
        "id": "iRgo78HzSxdz"
      },
      "source": [
        "Над множествами можно выполнять такие операции, как объединение и пересечение. Т.к. элементы в множестве должны быть уникальны, они автоматически удаляют дубликаты:"
      ]
    },
    {
      "cell_type": "code",
      "execution_count": null,
      "metadata": {
        "id": "AP-48vG1S0Nd"
      },
      "outputs": [],
      "source": [
        "a = {1, 2, 2, 3, 3, 3}\n",
        "a\n"
      ]
    },
    {
      "cell_type": "markdown",
      "metadata": {
        "id": "mUsXYF3MS7pA"
      },
      "source": [
        "Поскольку множество является неупорядоченной последовательностью, оператор извлечения среза здесь не работает:"
      ]
    },
    {
      "cell_type": "code",
      "execution_count": null,
      "metadata": {
        "id": "DIRXBDraS6yA"
      },
      "outputs": [],
      "source": [
        "a[1]\n"
      ]
    },
    {
      "cell_type": "markdown",
      "metadata": {},
      "source": [
        "### [Словари](https://pythonworld.ru/tipy-dannyx-v-python/slovari-dict-funkcii-i-metody-slovarej.html)"
      ]
    },
    {
      "cell_type": "markdown",
      "metadata": {
        "id": "yZfaixGETBX1"
      },
      "source": [
        "**Словари** — неупорядоченные наборы пар ключ-значение.\n",
        "\n",
        "Они используются, когда нужно сопоставить каждому из ключей значение и иметь возможность быстро получать доступ к значению, зная ключ. В других языках словари обычно называются `map`, `hash` или `object`. Словари оптимизированы для извлечения данных. Чтобы извлечь значение, нужно знать ключ."
      ]
    },
    {
      "cell_type": "code",
      "execution_count": null,
      "metadata": {
        "id": "wJoNKikRUHAR"
      },
      "outputs": [],
      "source": [
        "d = {1: 'value', 'key': 2}\n",
        "type(d)\n"
      ]
    },
    {
      "cell_type": "markdown",
      "metadata": {
        "id": "q_1tzutgUZ9o"
      },
      "source": [
        "Значение может быть любого типа, а вот ключ — только неизменяемого.\n",
        "\n",
        "Мы используем ключ, чтобы получить соответствующее ему значение. Но не наоборот:"
      ]
    },
    {
      "cell_type": "code",
      "execution_count": null,
      "metadata": {
        "id": "6ZwLF3yAUd-H"
      },
      "outputs": [],
      "source": [
        "d = {1: 'value', 'key': 2}\n",
        "print(\"d[1] =\", d[1])\n",
        "print(\"d['key'] =\", d['key'])\n"
      ]
    },
    {
      "cell_type": "markdown",
      "metadata": {},
      "source": [
        "### Преобразование типов данных"
      ]
    },
    {
      "cell_type": "markdown",
      "metadata": {
        "id": "5C10XN4UUz5E"
      },
      "source": [
        "Мы можем преобразовывать значения из одного типа в другой с помощью таких функций, как `int()`, `float()`, `str()` и т.д."
      ]
    },
    {
      "cell_type": "code",
      "execution_count": null,
      "metadata": {
        "id": "2IqD0wEvU_Ks"
      },
      "outputs": [],
      "source": [
        "print(float(5))\n",
        "print(int(float(4)))\n",
        "print(float('2.5'))\n",
        "print(set([1, 2, 3]))\n"
      ]
    },
    {
      "cell_type": "markdown",
      "metadata": {
        "id": "ZBZlKO96XBC9"
      },
      "source": [
        "Для преобразования в словарь каждый элемент последовательности должен быть парой:"
      ]
    },
    {
      "cell_type": "code",
      "execution_count": null,
      "metadata": {
        "id": "swgP4KG8XPov"
      },
      "outputs": [],
      "source": [
        "dict([[1, 2], [3, 4]])\n"
      ]
    },
    {
      "cell_type": "markdown",
      "metadata": {},
      "source": [
        "## [Операторы в Python](https://rtfm.co.ua/books-translations/python_s_nulya/python-s-nulya-chast-3-bazovye-operatory/#_Python)"
      ]
    },
    {
      "cell_type": "markdown",
      "metadata": {},
      "source": [
        "### Арифметические операторы"
      ]
    },
    {
      "cell_type": "markdown",
      "metadata": {
        "id": "a91eToMaajOo"
      },
      "source": [
        "| ОПЕРАТОР | ОПИСАНИЕ|\n",
        "| ---|---|  \n",
        "| `+`\t | добавление (addition) — добавляет значения каждого оператора |\n",
        "| `—` |\tвычитание (subtraction) — вычитает правый операнд из левого |\n",
        "| `*` |\tумножение (multiplication) — умножает значения с обоих сторон оператора |\n",
        "| `/` |\tделение (division) — делит левый операнд на правый |\n",
        "| `%` |\tмодуль (modulus) — делит левый операнд на правый и возвращает остаток |\n",
        "| `**` |\tвозведение в степень (exponent, экспонента)|\n",
        "| `//` |\tделение с остатком — (floor division) — деление операндов, где результат является частным числов, в котором цасти после точки удаляются |"
      ]
    },
    {
      "cell_type": "markdown",
      "metadata": {},
      "source": [
        "### Операторы сравнения"
      ]
    },
    {
      "cell_type": "markdown",
      "metadata": {
        "id": "PW60iZE0bgCN"
      },
      "source": [
        "| ОПЕРАТОР |\tОПИСАНИЕ |\n",
        "|---|---|\n",
        "| `==` |\tпроверяет одинаково ли значение операндов, если одинаковы — то условие является истинной (true) |\n",
        "| `!=` |\tпроверяет одинаково ли значение операндов, если НЕ одинаковы — то условие является истинной (true) |\n",
        "| `<>` |\tпроверяет одинаково ли значение операндов, если НЕ одинаковы — то условие является истинной (true) |\n",
        "| `>` |\tпроверяет значение левого оператора, если он больше, чем правый — то условие является истинной |\n",
        "| `<` |\tпроверяет значение левого оператора, если он меньше, чем правый — то условие является истинной |\n",
        "| `>=` |\tпроверяет значение левого оператора, если он больше или равен правому — то условие является истинной |\n",
        "| `<=` |\tпроверяет значение левого оператора, если он меньше или равен правому — то условие является истинной |"
      ]
    },
    {
      "cell_type": "markdown",
      "metadata": {},
      "source": [
        "### Операторы присваивания"
      ]
    },
    {
      "cell_type": "markdown",
      "metadata": {
        "id": "AGZnr0adcZNS"
      },
      "source": [
        "| ОПЕРАТОР | ОПИСАНИЕ |\n",
        "|---|---|\n",
        "| `=` |\tпростой оператор присваивания, присваивает значение с правой стороны операнду с левой стороны |\n",
        "| `+=` |\tоператор присваивания «сложение И», добавляет значение правого оператора левому, и присваивает результат левому операнду |\n",
        "| `-=` |\tоператор присваивания «вычитание И», вычитает правый оператор из левого и результат присваивает левому операнду |\n",
        "| `*=` |\tоператор присваивания «умножение И», умножает правый оператор на левый и присваивает результат левому операнду |\n",
        "| `/=` |\tоператор присваивания «деление И», делит левый оператор на правый и присваивает результат левому операнду |\n",
        "| `%=` |\tоператор присваивания «модуль И», получает модуль из обоих операторов и присваивает значение левому операнду |\n",
        "| `**=` |\tоператор присваивания «возведение в степень И», выполняет возведение в степень операндов и присваивает рузультат левому операнду |\n",
        "| `//=` |\tоператор присваивания «деление с остатком И», выполняет деление с остатком и присваивает результат левому операнду |\n"
      ]
    },
    {
      "cell_type": "markdown",
      "metadata": {},
      "source": [
        "### Логические операторы в Python"
      ]
    },
    {
      "cell_type": "markdown",
      "metadata": {
        "id": "waz25lEAdrQz"
      },
      "source": [
        "| ОПЕРАТОР |\tОПИСАНИЕ |\n",
        "|---|---|\n",
        "| `and` |\tназывается логическим оператором AND (И). Если оба операнда = true выражение будет так же true |\n",
        "| `or` | называется логическим оператором OR (ИЛИ). Если хотя бы один из двух операторов не пустой (не равен 0) — выражение истинно |\n",
        "| `not` |\tназывается логическим оператором NOT (НЕ). Используется для обратного изменения логического результата выражения. Если выражение истинно — с помощью этого оператора оно станет ложным (false) |\n"
      ]
    },
    {
      "cell_type": "markdown",
      "metadata": {},
      "source": [
        "## [Инструкция if-elif-else](https://pythonworld.ru/osnovy/instrukciya-if-elif-else-proverka-istinnosti-trexmestnoe-vyrazhenie-ifelse.html)"
      ]
    },
    {
      "cell_type": "markdown",
      "metadata": {},
      "source": [
        "### Синтаксис инструкции if"
      ]
    },
    {
      "cell_type": "markdown",
      "metadata": {
        "id": "C-w1eM4sfxus"
      },
      "source": [
        "Общая форма записи условной инструкции if выглядит следующим образом:\n",
        "\n",
        "```python\n",
        "if test1:\n",
        "    state1\n",
        "elif test2:\n",
        "    state2\n",
        "else:\n",
        "    state3\n",
        "```\n",
        "\n"
      ]
    },
    {
      "cell_type": "code",
      "execution_count": null,
      "metadata": {
        "id": "-Qi-cZM0f5Au"
      },
      "outputs": [],
      "source": [
        "a = int(input())\n",
        "if a < -5:\n",
        "    print('Low')\n",
        "elif -5 <= a <= 5:\n",
        "    print('Mid')\n",
        "else:\n",
        "    print('High')\n"
      ]
    },
    {
      "cell_type": "markdown",
      "metadata": {},
      "source": [
        "## [Циклы for и while](https://pythonworld.ru/osnovy/cikly-for-i-while-operatory-break-i-continue-volshebnoe-slovo-else.html)"
      ]
    },
    {
      "cell_type": "markdown",
      "metadata": {},
      "source": [
        "### Цикл while"
      ]
    },
    {
      "cell_type": "markdown",
      "metadata": {
        "id": "CL8a06GYhuBD"
      },
      "source": [
        "```python\n",
        ">>> i = 5\n",
        ">>> while i < 15:\n",
        "...     print(i)\n",
        "...     i = i + 2\n",
        "```"
      ]
    },
    {
      "cell_type": "markdown",
      "metadata": {},
      "source": [
        "### Цикл for"
      ]
    },
    {
      "cell_type": "markdown",
      "metadata": {
        "id": "sxedjJPSh_b-"
      },
      "source": [
        "```python\n",
        ">>> for i in 'hello world':\n",
        "...     print(i * 2, end='')\n",
        "```"
      ]
    },
    {
      "cell_type": "markdown",
      "metadata": {},
      "source": [
        "### Оператор continue"
      ]
    },
    {
      "cell_type": "markdown",
      "metadata": {
        "id": "Hz84Y3_9iVq3"
      },
      "source": [
        "```python\n",
        ">>> for i in 'hello world':\n",
        "...     if i == 'o':\n",
        "...         continue\n",
        "...     print(i * 2, end='')\n",
        "```"
      ]
    },
    {
      "cell_type": "markdown",
      "metadata": {},
      "source": [
        "### Оператор break"
      ]
    },
    {
      "cell_type": "markdown",
      "metadata": {
        "id": "GeiakQhlif_P"
      },
      "source": [
        "```python\n",
        ">>> for i in 'hello world':\n",
        "...     if i == 'o':\n",
        "...         break\n",
        "...     print(i * 2, end='')\n",
        "```"
      ]
    },
    {
      "cell_type": "markdown",
      "metadata": {},
      "source": [
        "### Волшебное слово else"
      ]
    },
    {
      "cell_type": "markdown",
      "metadata": {
        "id": "OSkovs2Eim34"
      },
      "source": [
        "Слово `else`, примененное в цикле `for` или `while`, проверяет, был ли произведен выход из цикла инструкцией `break`, или же \"естественным\" образом. Блок инструкций внутри `else` выполнится только в том случае, если выход из цикла произошел без помощи `break`."
      ]
    },
    {
      "cell_type": "code",
      "execution_count": null,
      "metadata": {
        "id": "MtoeOYlGi90x"
      },
      "outputs": [],
      "source": [
        "for i in 'hello world':\n",
        "    if i == 'a':\n",
        "        break\n",
        "else:\n",
        "    print(\"Буквы a в строке нет\")\n"
      ]
    },
    {
      "cell_type": "code",
      "execution_count": null,
      "metadata": {
        "id": "xZ5TDCwyjHAg"
      },
      "outputs": [],
      "source": [
        "for i in 'hello world':\n",
        "    if i == 'd':\n",
        "        print(\"Буква d в строке есть\")\n",
        "        break\n",
        "else:\n",
        "    print(\"Буквы d в строке нет\")\n"
      ]
    },
    {
      "cell_type": "markdown",
      "metadata": {},
      "source": [
        "## [Функции и их аргументы](https://pythonworld.ru/tipy-dannyx-v-python/vse-o-funkciyax-i-ix-argumentax.html)"
      ]
    },
    {
      "cell_type": "markdown",
      "metadata": {
        "id": "9YfXZwILlBTk"
      },
      "source": [
        "### Именные функции, инструкция def"
      ]
    },
    {
      "cell_type": "code",
      "execution_count": null,
      "metadata": {
        "id": "_A1dzwGDlE4M"
      },
      "outputs": [],
      "source": [
        "def add(x, y):\n",
        "    return x + y\n"
      ]
    },
    {
      "cell_type": "code",
      "execution_count": null,
      "metadata": {
        "id": "IxUu73CTlF-R"
      },
      "outputs": [],
      "source": [
        "print(add(1, 2))\n",
        "print(add('1', '2'))\n"
      ]
    },
    {
      "cell_type": "markdown",
      "metadata": {
        "id": "8nODCeKZlgkq"
      },
      "source": [
        "Функция может и не заканчиваться инструкцией `return`, при этом функция вернет значение `None`:"
      ]
    },
    {
      "cell_type": "code",
      "execution_count": null,
      "metadata": {
        "id": "_SsGxvIflh2u"
      },
      "outputs": [],
      "source": [
        "# Функция 1\n",
        "def func1():\n",
        "    pass\n",
        "\n",
        "\n",
        "print(func1())\n",
        "\n",
        "# Функция 2\n",
        "\n",
        "\n",
        "def func2():\n",
        "    return\n",
        "\n",
        "\n",
        "print(func2())\n",
        "\n",
        "# Функция 3\n",
        "\n",
        "\n",
        "def func3():\n",
        "    return None\n",
        "\n",
        "\n",
        "print(func3())\n",
        "\n",
        "# Функция 4\n",
        "\n",
        "\n",
        "def func4():\n",
        "    print(\"Hello!\")\n",
        "\n",
        "\n",
        "print(func4())  # нет return, потому после print в func4 выдается None\n"
      ]
    },
    {
      "cell_type": "markdown",
      "metadata": {},
      "source": [
        "### Аргументы функции"
      ]
    },
    {
      "cell_type": "markdown",
      "metadata": {
        "id": "ty5w-I_Zp7B0"
      },
      "source": [
        "Функция может принимать произвольное количество аргументов или не принимать их вовсе. Также распространены функции с произвольным числом аргументов, функции с позиционными и именованными аргументами, обязательными и необязательными."
      ]
    },
    {
      "cell_type": "code",
      "execution_count": null,
      "metadata": {
        "id": "P23PhuiRqB0K"
      },
      "outputs": [],
      "source": [
        "def func(a, b, c=2):  # c - необязательный аргумент\n",
        "    return a + b + c\n"
      ]
    },
    {
      "cell_type": "code",
      "execution_count": null,
      "metadata": {
        "id": "wgvR6IcQqOLl"
      },
      "outputs": [],
      "source": [
        "func(1, 2)  # a = 1, b = 2, c = 2 (по умолчанию)\n"
      ]
    },
    {
      "cell_type": "code",
      "execution_count": null,
      "metadata": {
        "id": "w3XPpFuLqTtD"
      },
      "outputs": [],
      "source": [
        "func(1, 2, 3)  # a = 1, b = 2, c = 3\n"
      ]
    },
    {
      "cell_type": "code",
      "execution_count": null,
      "metadata": {
        "id": "I2dTpNwZqVS2"
      },
      "outputs": [],
      "source": [
        "func(b=3, a=1)  # a = 1, b = 3, c = 2\n"
      ]
    },
    {
      "cell_type": "code",
      "execution_count": null,
      "metadata": {
        "id": "sBE16qvCqXLK"
      },
      "outputs": [],
      "source": [
        "func(a=3, c=6)  # a = 3, c = 6, b не определен\n"
      ]
    },
    {
      "cell_type": "markdown",
      "metadata": {
        "id": "NW45VqWEqgbm"
      },
      "source": [
        "Функция также может принимать переменное количество позиционных аргументов, тогда перед именем ставится `*`:"
      ]
    },
    {
      "cell_type": "code",
      "execution_count": null,
      "metadata": {
        "id": "I2fyw9jqqiHK"
      },
      "outputs": [],
      "source": [
        "def func(*args):\n",
        "    print(type(args))\n",
        "    return args\n"
      ]
    },
    {
      "cell_type": "code",
      "execution_count": null,
      "metadata": {
        "id": "6lOtAwDLqma9"
      },
      "outputs": [],
      "source": [
        "func(1, 2, 3, 'abc')\n"
      ]
    },
    {
      "cell_type": "markdown",
      "metadata": {
        "id": "GdeIiyl_rbLb"
      },
      "source": [
        "Как видно из примера, `args` - это кортеж из всех переданных аргументов функции, и с переменной можно работать также, как и с кортежем."
      ]
    },
    {
      "cell_type": "code",
      "execution_count": null,
      "metadata": {
        "id": "1lPqseTsqoKk"
      },
      "outputs": [],
      "source": [
        "def func(*args):\n",
        "    res = 0\n",
        "    for i in args:\n",
        "        res += i\n",
        "    return res\n",
        "\n",
        "\n",
        "func(1, 2, 3)\n"
      ]
    },
    {
      "cell_type": "markdown",
      "metadata": {
        "id": "EF2IRUQgrjBa"
      },
      "source": [
        "Функция может принимать и произвольное число именованных аргументов, тогда перед именем ставится `**`:"
      ]
    },
    {
      "cell_type": "code",
      "execution_count": null,
      "metadata": {
        "id": "4JXpj50MrpNp"
      },
      "outputs": [],
      "source": [
        "def func(**kwargs):\n",
        "    print(type(kwargs))\n",
        "    return kwargs\n",
        "\n",
        "\n",
        "func(a=1, b=2, c=3)\n"
      ]
    },
    {
      "cell_type": "code",
      "execution_count": null,
      "metadata": {
        "id": "SmdrApIMrtkM"
      },
      "outputs": [],
      "source": [
        "def func(**kwargs):\n",
        "    return kwargs['a']\n",
        "\n",
        "\n",
        "func(a=1, b=2, c=3)\n"
      ]
    },
    {
      "cell_type": "markdown",
      "metadata": {},
      "source": [
        "### Анонимные функции, инструкция lambda"
      ]
    },
    {
      "cell_type": "markdown",
      "metadata": {
        "id": "opU302GwsUFB"
      },
      "source": [
        "Анонимные функции могут содержать лишь одно выражение, но и выполняются они быстрее. Анонимные функции создаются с помощью инструкции lambda. Кроме этого, их не обязательно присваивать переменной:"
      ]
    },
    {
      "cell_type": "code",
      "execution_count": null,
      "metadata": {
        "id": "mORXePjIsav_"
      },
      "outputs": [],
      "source": [
        "def func(x, y): return x + y\n",
        "\n",
        "\n",
        "print(func(1, 2))\n",
        "print(func(y='a', x='b'))\n"
      ]
    },
    {
      "cell_type": "markdown",
      "metadata": {},
      "source": [
        "## [Исключения](https://pythonworld.ru/tipy-dannyx-v-python/isklyucheniya-v-python-konstrukciya-try-except-dlya-obrabotki-isklyuchenij.html)"
      ]
    },
    {
      "cell_type": "markdown",
      "metadata": {
        "id": "G9hmNTIPtm2g"
      },
      "source": [
        "**Исключения (exceptions)** - ещё один тип данных в python. Исключения необходимы для того, чтобы сообщать программисту об ошибках.\n",
        "\n",
        "Самый простейший пример исключения - деление на ноль:\n"
      ]
    },
    {
      "cell_type": "code",
      "execution_count": null,
      "metadata": {
        "id": "linErdHjum6r"
      },
      "outputs": [],
      "source": [
        "100 / 0\n"
      ]
    },
    {
      "cell_type": "code",
      "execution_count": null,
      "metadata": {
        "id": "XFPf2ozzuqk0"
      },
      "outputs": [],
      "source": [
        "2 + '1'\n"
      ]
    },
    {
      "cell_type": "code",
      "execution_count": null,
      "metadata": {
        "id": "ibz3J-ptu3jk"
      },
      "outputs": [],
      "source": [
        "int('qwerty')\n"
      ]
    },
    {
      "cell_type": "markdown",
      "metadata": {
        "id": "GDEV0Zpw8S7m"
      },
      "source": [
        "### [Типы исключения](https://pythonworld.ru/tipy-dannyx-v-python/isklyucheniya-v-python-konstrukciya-try-except-dlya-obrabotki-isklyuchenij.html)"
      ]
    },
    {
      "cell_type": "markdown",
      "metadata": {
        "id": "HIqg1rbW9lYF"
      },
      "source": [
        "```python\n",
        ">>> try:\n",
        "...     k = 1 / 0\n",
        "... except ZeroDivisionError:\n",
        "...     k = 0\n",
        "...\n",
        ">>> print(k)\n",
        "0\n",
        "```"
      ]
    },
    {
      "cell_type": "markdown",
      "metadata": {
        "id": "SoC0ud4_9tQf"
      },
      "source": [
        "```python\n",
        ">>> f = open('1.txt')\n",
        ">>> ints = []\n",
        ">>> try:\n",
        "...     for line in f:\n",
        "...         ints.append(int(line))\n",
        "... except ValueError:\n",
        "...     print('Это не число. Выходим.')\n",
        "... except Exception:\n",
        "...     print('Это что ещё такое?')\n",
        "... else:\n",
        "...     print('Всё хорошо.')\n",
        "... finally:\n",
        "...     f.close()\n",
        "...     print('Я закрыл файл.')\n",
        "...     # Именно в таком порядке: try, группа except, затем else, и только потом finally.\n",
        "...\n",
        "```"
      ]
    },
    {
      "cell_type": "markdown",
      "metadata": {},
      "source": [
        "## Файлы. Работа с файлами"
      ]
    },
    {
      "cell_type": "markdown",
      "metadata": {
        "id": "ihhHIKf3vgJn"
      },
      "source": [
        "Прежде, чем работать с файлом, его надо открыть. С этим замечательно справится встроенная функция `open`:\n",
        "\n",
        "```python\n",
        "f = open('text.txt', 'r')\n",
        "```\n",
        "\n",
        "После окончания работы с файлом его обязательно нужно закрыть с помощью метода `close`:\n",
        "\n",
        "```python\n",
        "f.close()\n",
        "```\n"
      ]
    },
    {
      "cell_type": "markdown",
      "metadata": {
        "id": "lPekxm-kOLm-"
      },
      "source": [
        "Режим открытия:"
      ]
    },
    {
      "cell_type": "markdown",
      "metadata": {
        "id": "UsaQned9OSTb"
      },
      "source": [
        "| Режим | Обозначение |\n",
        "|---|---|\n",
        "| 'r' |\tоткрытие на чтение (является значением по умолчанию) |\n",
        "| 'w' |\tоткрытие на запись, содержимое файла удаляется, если файла не существует, создается новый |\n",
        "| 'x' |\tоткрытие на запись, если файла не существует, иначе исключение |\n",
        "| 'a' |\tоткрытие на дозапись, информация добавляется в конец файла |\n",
        "| 'b' |\tоткрытие в двоичном режиме |\n",
        "| 't' |\tоткрытие в текстовом режиме (является значением по умолчанию) |\n",
        "| '+' |\tоткрытие на чтение и запись |"
      ]
    },
    {
      "cell_type": "markdown",
      "metadata": {
        "id": "3I66mMN8OzvJ"
      },
      "source": [
        "### Чтение из файла из Google Drive"
      ]
    },
    {
      "cell_type": "code",
      "execution_count": null,
      "metadata": {
        "id": "McIKoZxiQMIG"
      },
      "outputs": [],
      "source": [
        "# Подключение Google диска для загрузки датасета\n",
        "from google.colab import drive\n",
        "drive.mount('/content/gdrive')\n"
      ]
    },
    {
      "cell_type": "markdown",
      "metadata": {
        "id": "NPqk70c9EA89"
      },
      "source": [
        "https://www.kaggle.com/uciml/red-wine-quality-cortez-et-al-2009"
      ]
    },
    {
      "cell_type": "code",
      "execution_count": null,
      "metadata": {
        "id": "BoXRvHxZQWFr"
      },
      "outputs": [],
      "source": [
        "!ls './sample_data/' - l\n",
        "!pwd\n"
      ]
    },
    {
      "cell_type": "code",
      "execution_count": null,
      "metadata": {
        "id": "lsVA7IUyQm8b"
      },
      "outputs": [],
      "source": [
        "CURENT_DIR = './sample_data/'\n",
        "\n",
        "# With ... as - менеджеры контекста\n",
        "with open(CURENT_DIR+'/california_housing_test.csv', 'r', encoding='utf-8') as f:\n",
        "    for i in range(3):\n",
        "        print(f.readline())\n"
      ]
    },
    {
      "cell_type": "markdown",
      "metadata": {
        "id": "gaufH6CITfTH"
      },
      "source": [
        "### Запись в файл\n"
      ]
    },
    {
      "cell_type": "code",
      "execution_count": null,
      "metadata": {
        "id": "UyJDtwiJTYRA"
      },
      "outputs": [],
      "source": [
        "CURENT_DIR = './'\n",
        "\n",
        "# Записываем что-то в файл\n",
        "with open(CURENT_DIR+'/2c-test.txt', 'w', encoding='utf-8') as f:\n",
        "    for i in range(3):\n",
        "        f.write(\"Строка\" + str(i) + '\\n')\n",
        "\n",
        "# Смотрим что в файле\n",
        "with open(CURENT_DIR+'/2c-test.txt', 'r', encoding='utf-8') as f:\n",
        "    for line in f:\n",
        "        print(line)\n"
      ]
    },
    {
      "cell_type": "markdown",
      "metadata": {},
      "source": [
        "## PEP 8 - руководство по написанию кода на Python\n"
      ]
    },
    {
      "cell_type": "markdown",
      "metadata": {
        "id": "-CGa8_ImUjMo"
      },
      "source": [
        "[Основные моменты](https://pythonworld.ru/osnovy/pep-8-rukovodstvo-po-napisaniyu-koda-na-python.html)\n",
        "\n",
        "> Рекомендуется его соблюдать для того, чтобы вы смогли понять свой код через полгода! Читай PEP 8 — пиши код как ван Россум!\n"
      ]
    },
    {
      "cell_type": "markdown",
      "metadata": {},
      "source": [
        "![Гвидо ван Россум](images/GuidoVanRossum.png)\n"
      ]
    },
    {
      "cell_type": "markdown",
      "metadata": {},
      "source": [
        "**Гвидо ван Россум** — нидерландский программист, прежде всего известный как автор языка программирования Python. Среди разработчиков Python Гвидо известен как «великодушный пожизненный диктатор» (BDFL) проекта, что означает, что он продолжает наблюдать за процессом разработки Python, принимая окончательные решения, когда это необходимо. С июля 2018 года Гвидо ушел в постоянный отпуск от диктаторства оставив за собой право быть обычным разработчиком."
      ]
    },
    {
      "cell_type": "markdown",
      "metadata": {},
      "source": [
        "### Документирование\n"
      ]
    },
    {
      "cell_type": "markdown",
      "metadata": {
        "id": "v5cMZP9hU5mH"
      },
      "source": [
        "[Основные моменты](https://pythonworld.ru/osnovy/dokumentirovanie-koda-v-python-pep-257.html)"
      ]
    },
    {
      "cell_type": "markdown",
      "metadata": {
        "id": "jKAwe0XEX0DL"
      },
      "source": [
        "#### Однострочные строки документации"
      ]
    },
    {
      "cell_type": "code",
      "execution_count": null,
      "metadata": {
        "id": "vyKcPBE6Xy8X"
      },
      "outputs": [],
      "source": [
        "def kos_root():\n",
        "    \"\"\"Return the pathname of the KOS root directory.\"\"\"\n",
        "    global _kos_root\n",
        "    if _kos_root:\n",
        "        return _kos_root\n"
      ]
    },
    {
      "cell_type": "code",
      "execution_count": null,
      "metadata": {
        "id": "R1G-s3IeY4KA"
      },
      "outputs": [],
      "source": [
        "kos_root()\n"
      ]
    },
    {
      "cell_type": "markdown",
      "metadata": {
        "id": "ZJfpEnsfYBhZ"
      },
      "source": [
        "#### Многострочные строки документации"
      ]
    },
    {
      "cell_type": "code",
      "execution_count": null,
      "metadata": {
        "id": "DtxGdycqX4jX"
      },
      "outputs": [],
      "source": [
        "def sum_num(a=0.0, b=0.0):\n",
        "    \"\"\"Sum of numbers.\n",
        "\n",
        "    Keyword arguments:\n",
        "    * a -- num 1\n",
        "    * b -- num 2\n",
        "\n",
        "    \"\"\"\n",
        "    return a+b\n"
      ]
    },
    {
      "cell_type": "code",
      "execution_count": null,
      "metadata": {
        "id": "anPDngiKYbSg"
      },
      "outputs": [],
      "source": [
        "sum_num()\n"
      ]
    }
  ],
  "metadata": {
    "accelerator": "GPU",
    "colab": {
      "collapsed_sections": [],
      "name": "Занятие 19 янв 2022 (Прак MainFlow).ipynb",
      "provenance": []
    },
    "kernelspec": {
      "display_name": "Python 3.10.3 ('venv': venv)",
      "language": "python",
      "name": "python3"
    },
    "language_info": {
      "name": "python",
      "version": "3.10.3"
    },
    "vscode": {
      "interpreter": {
        "hash": "bf5bb7792fc8de9f7bdad1039b6dda9116952d448b9ad3ed029dca494a853f28"
      }
    }
  },
  "nbformat": 4,
  "nbformat_minor": 0
}
